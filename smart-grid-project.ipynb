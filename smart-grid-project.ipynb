{
 "cells": [
  {
   "cell_type": "code",
   "execution_count": 1,
   "id": "15e5cc37-9ad0-40df-bfcb-54bca828517f",
   "metadata": {},
   "outputs": [],
   "source": [
    "import pandas as pd\n",
    "import datetime\n",
    "import seaborn as sns\n",
    "import numpy as np\n",
    "import matplotlib.pyplot as plt\n",
    "from datetime import datetime"
   ]
  },
  {
   "cell_type": "code",
   "execution_count": 2,
   "id": "7d79383a-e1f6-4ffd-a890-9b7a9f1e8e2d",
   "metadata": {},
   "outputs": [],
   "source": [
    "data=pd.read_csv('LCL-June2015v2_15.csv')\n",
    "for i in range(16,30):\n",
    "    path_i='LCL-June2015v2_'+str(i)+'.csv'\n",
    "    data_i=pd.read_csv(path_i)\n",
    "    data=pd.concat([data,data_i])"
   ]
  },
  {
   "cell_type": "code",
   "execution_count": 3,
   "id": "648b3e61-2834-40c2-8120-34b981da15d0",
   "metadata": {},
   "outputs": [
    {
     "data": {
      "text/plain": [
       "(15000000, 4)"
      ]
     },
     "execution_count": 3,
     "metadata": {},
     "output_type": "execute_result"
    }
   ],
   "source": [
    "data.shape"
   ]
  },
  {
   "cell_type": "code",
   "execution_count": 4,
   "id": "466cdace-ba93-4f39-8da5-bc6c2f275ca2",
   "metadata": {},
   "outputs": [
    {
     "data": {
      "text/plain": [
       "(1000000, 4)"
      ]
     },
     "execution_count": 4,
     "metadata": {},
     "output_type": "execute_result"
    }
   ],
   "source": [
    "data_i.shape"
   ]
  },
  {
   "cell_type": "code",
   "execution_count": 5,
   "id": "0a24aae8-e9ef-4069-b619-a9ba07ed48b5",
   "metadata": {},
   "outputs": [],
   "source": [
    "compteurs=len(data.groupby('LCLid').nunique())"
   ]
  },
  {
   "cell_type": "code",
   "execution_count": 6,
   "id": "db8932a5-1f6b-4009-8efe-af21bdf98513",
   "metadata": {},
   "outputs": [
    {
     "data": {
      "text/plain": [
       "483"
      ]
     },
     "execution_count": 6,
     "metadata": {},
     "output_type": "execute_result"
    }
   ],
   "source": [
    "compteurs"
   ]
  },
  {
   "cell_type": "code",
   "execution_count": 236,
   "id": "9ea91973-f488-4a42-9c5f-5aee4421ac80",
   "metadata": {},
   "outputs": [
    {
     "data": {
      "text/html": [
       "<div>\n",
       "<style scoped>\n",
       "    .dataframe tbody tr th:only-of-type {\n",
       "        vertical-align: middle;\n",
       "    }\n",
       "\n",
       "    .dataframe tbody tr th {\n",
       "        vertical-align: top;\n",
       "    }\n",
       "\n",
       "    .dataframe thead th {\n",
       "        text-align: right;\n",
       "    }\n",
       "</style>\n",
       "<table border=\"1\" class=\"dataframe\">\n",
       "  <thead>\n",
       "    <tr style=\"text-align: right;\">\n",
       "      <th></th>\n",
       "      <th>LCLid</th>\n",
       "      <th>DateTime</th>\n",
       "      <th>KWhh</th>\n",
       "      <th>year</th>\n",
       "      <th>month</th>\n",
       "      <th>day</th>\n",
       "      <th>hour</th>\n",
       "      <th>minute</th>\n",
       "      <th>season</th>\n",
       "      <th>season_encoded</th>\n",
       "      <th>period</th>\n",
       "      <th>period_enc</th>\n",
       "      <th>Weekday</th>\n",
       "    </tr>\n",
       "  </thead>\n",
       "  <tbody>\n",
       "    <tr>\n",
       "      <th>0</th>\n",
       "      <td>MAC000515</td>\n",
       "      <td>2012-07-10 14:30:00</td>\n",
       "      <td>0.028</td>\n",
       "      <td>2012</td>\n",
       "      <td>7</td>\n",
       "      <td>10</td>\n",
       "      <td>14</td>\n",
       "      <td>30</td>\n",
       "      <td>summer</td>\n",
       "      <td>1</td>\n",
       "      <td>early_evening</td>\n",
       "      <td>3</td>\n",
       "      <td>Tuesday</td>\n",
       "    </tr>\n",
       "    <tr>\n",
       "      <th>1</th>\n",
       "      <td>MAC000515</td>\n",
       "      <td>2012-07-10 15:00:00</td>\n",
       "      <td>0.027</td>\n",
       "      <td>2012</td>\n",
       "      <td>7</td>\n",
       "      <td>10</td>\n",
       "      <td>15</td>\n",
       "      <td>0</td>\n",
       "      <td>summer</td>\n",
       "      <td>1</td>\n",
       "      <td>early_evening</td>\n",
       "      <td>3</td>\n",
       "      <td>Tuesday</td>\n",
       "    </tr>\n",
       "    <tr>\n",
       "      <th>2</th>\n",
       "      <td>MAC000515</td>\n",
       "      <td>2012-07-10 15:30:00</td>\n",
       "      <td>0.026</td>\n",
       "      <td>2012</td>\n",
       "      <td>7</td>\n",
       "      <td>10</td>\n",
       "      <td>15</td>\n",
       "      <td>30</td>\n",
       "      <td>summer</td>\n",
       "      <td>1</td>\n",
       "      <td>early_evening</td>\n",
       "      <td>3</td>\n",
       "      <td>Tuesday</td>\n",
       "    </tr>\n",
       "    <tr>\n",
       "      <th>3</th>\n",
       "      <td>MAC000515</td>\n",
       "      <td>2012-07-10 16:00:00</td>\n",
       "      <td>0.025</td>\n",
       "      <td>2012</td>\n",
       "      <td>7</td>\n",
       "      <td>10</td>\n",
       "      <td>16</td>\n",
       "      <td>0</td>\n",
       "      <td>summer</td>\n",
       "      <td>1</td>\n",
       "      <td>early_evening</td>\n",
       "      <td>3</td>\n",
       "      <td>Tuesday</td>\n",
       "    </tr>\n",
       "    <tr>\n",
       "      <th>4</th>\n",
       "      <td>MAC000515</td>\n",
       "      <td>2012-07-10 16:30:00</td>\n",
       "      <td>0.075</td>\n",
       "      <td>2012</td>\n",
       "      <td>7</td>\n",
       "      <td>10</td>\n",
       "      <td>16</td>\n",
       "      <td>30</td>\n",
       "      <td>summer</td>\n",
       "      <td>1</td>\n",
       "      <td>early_evening</td>\n",
       "      <td>3</td>\n",
       "      <td>Tuesday</td>\n",
       "    </tr>\n",
       "  </tbody>\n",
       "</table>\n",
       "</div>"
      ],
      "text/plain": [
       "       LCLid            DateTime   KWhh  year  month  day  hour  minute  \\\n",
       "0  MAC000515 2012-07-10 14:30:00  0.028  2012      7   10    14      30   \n",
       "1  MAC000515 2012-07-10 15:00:00  0.027  2012      7   10    15       0   \n",
       "2  MAC000515 2012-07-10 15:30:00  0.026  2012      7   10    15      30   \n",
       "3  MAC000515 2012-07-10 16:00:00  0.025  2012      7   10    16       0   \n",
       "4  MAC000515 2012-07-10 16:30:00  0.075  2012      7   10    16      30   \n",
       "\n",
       "   season  season_encoded         period  period_enc  Weekday  \n",
       "0  summer               1  early_evening           3  Tuesday  \n",
       "1  summer               1  early_evening           3  Tuesday  \n",
       "2  summer               1  early_evening           3  Tuesday  \n",
       "3  summer               1  early_evening           3  Tuesday  \n",
       "4  summer               1  early_evening           3  Tuesday  "
      ]
     },
     "execution_count": 236,
     "metadata": {},
     "output_type": "execute_result"
    }
   ],
   "source": [
    "data.head()"
   ]
  },
  {
   "cell_type": "code",
   "execution_count": 8,
   "id": "29f0b8fa-165a-4483-bb05-a97d695d013b",
   "metadata": {},
   "outputs": [],
   "source": [
    "del data['stdorToU']"
   ]
  },
  {
   "cell_type": "code",
   "execution_count": 10,
   "id": "56d09197-80b0-45bf-b262-5fc89080b525",
   "metadata": {},
   "outputs": [
    {
     "data": {
      "text/html": [
       "<div>\n",
       "<style scoped>\n",
       "    .dataframe tbody tr th:only-of-type {\n",
       "        vertical-align: middle;\n",
       "    }\n",
       "\n",
       "    .dataframe tbody tr th {\n",
       "        vertical-align: top;\n",
       "    }\n",
       "\n",
       "    .dataframe thead th {\n",
       "        text-align: right;\n",
       "    }\n",
       "</style>\n",
       "<table border=\"1\" class=\"dataframe\">\n",
       "  <thead>\n",
       "    <tr style=\"text-align: right;\">\n",
       "      <th></th>\n",
       "      <th>LCLid</th>\n",
       "      <th>DateTime</th>\n",
       "      <th>KWH/hh (per half hour)</th>\n",
       "    </tr>\n",
       "  </thead>\n",
       "  <tbody>\n",
       "    <tr>\n",
       "      <th>0</th>\n",
       "      <td>MAC000515</td>\n",
       "      <td>2012-07-10 14:30:00.0000000</td>\n",
       "      <td>0.028</td>\n",
       "    </tr>\n",
       "    <tr>\n",
       "      <th>1</th>\n",
       "      <td>MAC000515</td>\n",
       "      <td>2012-07-10 15:00:00.0000000</td>\n",
       "      <td>0.027</td>\n",
       "    </tr>\n",
       "    <tr>\n",
       "      <th>2</th>\n",
       "      <td>MAC000515</td>\n",
       "      <td>2012-07-10 15:30:00.0000000</td>\n",
       "      <td>0.026</td>\n",
       "    </tr>\n",
       "    <tr>\n",
       "      <th>3</th>\n",
       "      <td>MAC000515</td>\n",
       "      <td>2012-07-10 16:00:00.0000000</td>\n",
       "      <td>0.025</td>\n",
       "    </tr>\n",
       "    <tr>\n",
       "      <th>4</th>\n",
       "      <td>MAC000515</td>\n",
       "      <td>2012-07-10 16:30:00.0000000</td>\n",
       "      <td>0.075</td>\n",
       "    </tr>\n",
       "    <tr>\n",
       "      <th>...</th>\n",
       "      <td>...</td>\n",
       "      <td>...</td>\n",
       "      <td>...</td>\n",
       "    </tr>\n",
       "    <tr>\n",
       "      <th>999995</th>\n",
       "      <td>MAC001140</td>\n",
       "      <td>2013-06-11 15:30:00.0000000</td>\n",
       "      <td>0.162</td>\n",
       "    </tr>\n",
       "    <tr>\n",
       "      <th>999996</th>\n",
       "      <td>MAC001140</td>\n",
       "      <td>2013-06-11 16:00:00.0000000</td>\n",
       "      <td>0.116</td>\n",
       "    </tr>\n",
       "    <tr>\n",
       "      <th>999997</th>\n",
       "      <td>MAC001140</td>\n",
       "      <td>2013-06-11 16:30:00.0000000</td>\n",
       "      <td>0.09</td>\n",
       "    </tr>\n",
       "    <tr>\n",
       "      <th>999998</th>\n",
       "      <td>MAC001140</td>\n",
       "      <td>2013-06-11 17:00:00.0000000</td>\n",
       "      <td>0.06</td>\n",
       "    </tr>\n",
       "    <tr>\n",
       "      <th>999999</th>\n",
       "      <td>MAC001140</td>\n",
       "      <td>2013-06-11 17:30:00.0000000</td>\n",
       "      <td>0.141</td>\n",
       "    </tr>\n",
       "  </tbody>\n",
       "</table>\n",
       "<p>15000000 rows × 3 columns</p>\n",
       "</div>"
      ],
      "text/plain": [
       "            LCLid                     DateTime KWH/hh (per half hour) \n",
       "0       MAC000515  2012-07-10 14:30:00.0000000                  0.028 \n",
       "1       MAC000515  2012-07-10 15:00:00.0000000                  0.027 \n",
       "2       MAC000515  2012-07-10 15:30:00.0000000                  0.026 \n",
       "3       MAC000515  2012-07-10 16:00:00.0000000                  0.025 \n",
       "4       MAC000515  2012-07-10 16:30:00.0000000                  0.075 \n",
       "...           ...                          ...                     ...\n",
       "999995  MAC001140  2013-06-11 15:30:00.0000000                  0.162 \n",
       "999996  MAC001140  2013-06-11 16:00:00.0000000                  0.116 \n",
       "999997  MAC001140  2013-06-11 16:30:00.0000000                   0.09 \n",
       "999998  MAC001140  2013-06-11 17:00:00.0000000                   0.06 \n",
       "999999  MAC001140  2013-06-11 17:30:00.0000000                  0.141 \n",
       "\n",
       "[15000000 rows x 3 columns]"
      ]
     },
     "execution_count": 10,
     "metadata": {},
     "output_type": "execute_result"
    }
   ],
   "source": [
    "data"
   ]
  },
  {
   "cell_type": "code",
   "execution_count": 11,
   "id": "14f0198f-84a6-40c0-978c-5175933a9ad8",
   "metadata": {},
   "outputs": [
    {
     "data": {
      "text/plain": [
       "False"
      ]
     },
     "execution_count": 11,
     "metadata": {},
     "output_type": "execute_result"
    }
   ],
   "source": [
    "data.isnull().sum().any()"
   ]
  },
  {
   "cell_type": "code",
   "execution_count": 12,
   "id": "88c4650c-0d8a-4a70-b150-1db07dbf1af4",
   "metadata": {},
   "outputs": [
    {
     "data": {
      "text/html": [
       "<div>\n",
       "<style scoped>\n",
       "    .dataframe tbody tr th:only-of-type {\n",
       "        vertical-align: middle;\n",
       "    }\n",
       "\n",
       "    .dataframe tbody tr th {\n",
       "        vertical-align: top;\n",
       "    }\n",
       "\n",
       "    .dataframe thead th {\n",
       "        text-align: right;\n",
       "    }\n",
       "</style>\n",
       "<table border=\"1\" class=\"dataframe\">\n",
       "  <thead>\n",
       "    <tr style=\"text-align: right;\">\n",
       "      <th></th>\n",
       "      <th>LCLid</th>\n",
       "      <th>DateTime</th>\n",
       "      <th>KWH/hh (per half hour)</th>\n",
       "    </tr>\n",
       "  </thead>\n",
       "  <tbody>\n",
       "    <tr>\n",
       "      <th>count</th>\n",
       "      <td>15000000</td>\n",
       "      <td>15000000</td>\n",
       "      <td>15000000</td>\n",
       "    </tr>\n",
       "    <tr>\n",
       "      <th>unique</th>\n",
       "      <td>483</td>\n",
       "      <td>33804</td>\n",
       "      <td>4000</td>\n",
       "    </tr>\n",
       "    <tr>\n",
       "      <th>top</th>\n",
       "      <td>MAC000516</td>\n",
       "      <td>2012-11-20 00:00:00.0000000</td>\n",
       "      <td>0</td>\n",
       "    </tr>\n",
       "    <tr>\n",
       "      <th>freq</th>\n",
       "      <td>33746</td>\n",
       "      <td>966</td>\n",
       "      <td>145427</td>\n",
       "    </tr>\n",
       "  </tbody>\n",
       "</table>\n",
       "</div>"
      ],
      "text/plain": [
       "            LCLid                     DateTime KWH/hh (per half hour) \n",
       "count    15000000                     15000000                15000000\n",
       "unique        483                        33804                    4000\n",
       "top     MAC000516  2012-11-20 00:00:00.0000000                      0 \n",
       "freq        33746                          966                  145427"
      ]
     },
     "execution_count": 12,
     "metadata": {},
     "output_type": "execute_result"
    }
   ],
   "source": [
    "data.describe(include = 'all')"
   ]
  },
  {
   "cell_type": "code",
   "execution_count": 13,
   "id": "7c554ab8-e193-4160-9937-6bbb81f4dd1b",
   "metadata": {},
   "outputs": [
    {
     "data": {
      "text/plain": [
       "True"
      ]
     },
     "execution_count": 13,
     "metadata": {},
     "output_type": "execute_result"
    }
   ],
   "source": [
    "data.duplicated().any()"
   ]
  },
  {
   "cell_type": "code",
   "execution_count": 14,
   "id": "dbe40292-76f9-4941-9429-4239ea504255",
   "metadata": {},
   "outputs": [],
   "source": [
    "data.drop_duplicates(inplace=True)"
   ]
  },
  {
   "cell_type": "code",
   "execution_count": 15,
   "id": "ff4142a0-831b-43dd-86cb-d3db846e21d1",
   "metadata": {},
   "outputs": [],
   "source": [
    "data=data.reset_index()"
   ]
  },
  {
   "cell_type": "code",
   "execution_count": 16,
   "id": "d7c3f906-7d53-4329-9d62-d70136f9f061",
   "metadata": {},
   "outputs": [
    {
     "data": {
      "text/plain": [
       "index                       int64\n",
       "LCLid                      object\n",
       "DateTime                   object\n",
       "KWH/hh (per half hour)     object\n",
       "dtype: object"
      ]
     },
     "execution_count": 16,
     "metadata": {},
     "output_type": "execute_result"
    }
   ],
   "source": [
    "data.dtypes"
   ]
  },
  {
   "cell_type": "code",
   "execution_count": 17,
   "id": "07c18c4d-5955-4ed2-b514-0648caa4e2e6",
   "metadata": {},
   "outputs": [],
   "source": [
    "data.rename(columns = {\"KWH/hh (per half hour) \":\"KWhh\"},inplace=True)"
   ]
  },
  {
   "cell_type": "code",
   "execution_count": 18,
   "id": "27307ae8-74f6-440d-b91d-42dbb5db5f56",
   "metadata": {},
   "outputs": [
    {
     "data": {
      "text/plain": [
       "Index(['index', 'LCLid', 'DateTime', 'KWhh'], dtype='object')"
      ]
     },
     "execution_count": 18,
     "metadata": {},
     "output_type": "execute_result"
    }
   ],
   "source": [
    "data.columns"
   ]
  },
  {
   "cell_type": "code",
   "execution_count": 20,
   "id": "a88e88a1-bdb6-4f7f-bdab-f206e6eda97d",
   "metadata": {},
   "outputs": [],
   "source": [
    "data=data[data['KWhh']!='Null']"
   ]
  },
  {
   "cell_type": "code",
   "execution_count": 21,
   "id": "5d5f1c91-3ce7-45a8-a15c-ab0f3f7c40a9",
   "metadata": {},
   "outputs": [],
   "source": [
    "data['KWhh']=data['KWhh'].astype(float)"
   ]
  },
  {
   "cell_type": "code",
   "execution_count": 22,
   "id": "545e49f0-a725-4254-8859-4341093b3638",
   "metadata": {},
   "outputs": [
    {
     "data": {
      "text/html": [
       "<div>\n",
       "<style scoped>\n",
       "    .dataframe tbody tr th:only-of-type {\n",
       "        vertical-align: middle;\n",
       "    }\n",
       "\n",
       "    .dataframe tbody tr th {\n",
       "        vertical-align: top;\n",
       "    }\n",
       "\n",
       "    .dataframe thead th {\n",
       "        text-align: right;\n",
       "    }\n",
       "</style>\n",
       "<table border=\"1\" class=\"dataframe\">\n",
       "  <thead>\n",
       "    <tr style=\"text-align: right;\">\n",
       "      <th></th>\n",
       "      <th>index</th>\n",
       "      <th>LCLid</th>\n",
       "      <th>DateTime</th>\n",
       "      <th>KWhh</th>\n",
       "    </tr>\n",
       "  </thead>\n",
       "  <tbody>\n",
       "    <tr>\n",
       "      <th>0</th>\n",
       "      <td>0</td>\n",
       "      <td>MAC000515</td>\n",
       "      <td>2012-07-10 14:30:00.0000000</td>\n",
       "      <td>0.028</td>\n",
       "    </tr>\n",
       "    <tr>\n",
       "      <th>1</th>\n",
       "      <td>1</td>\n",
       "      <td>MAC000515</td>\n",
       "      <td>2012-07-10 15:00:00.0000000</td>\n",
       "      <td>0.027</td>\n",
       "    </tr>\n",
       "    <tr>\n",
       "      <th>2</th>\n",
       "      <td>2</td>\n",
       "      <td>MAC000515</td>\n",
       "      <td>2012-07-10 15:30:00.0000000</td>\n",
       "      <td>0.026</td>\n",
       "    </tr>\n",
       "    <tr>\n",
       "      <th>3</th>\n",
       "      <td>3</td>\n",
       "      <td>MAC000515</td>\n",
       "      <td>2012-07-10 16:00:00.0000000</td>\n",
       "      <td>0.025</td>\n",
       "    </tr>\n",
       "    <tr>\n",
       "      <th>4</th>\n",
       "      <td>4</td>\n",
       "      <td>MAC000515</td>\n",
       "      <td>2012-07-10 16:30:00.0000000</td>\n",
       "      <td>0.075</td>\n",
       "    </tr>\n",
       "  </tbody>\n",
       "</table>\n",
       "</div>"
      ],
      "text/plain": [
       "   index      LCLid                     DateTime   KWhh\n",
       "0      0  MAC000515  2012-07-10 14:30:00.0000000  0.028\n",
       "1      1  MAC000515  2012-07-10 15:00:00.0000000  0.027\n",
       "2      2  MAC000515  2012-07-10 15:30:00.0000000  0.026\n",
       "3      3  MAC000515  2012-07-10 16:00:00.0000000  0.025\n",
       "4      4  MAC000515  2012-07-10 16:30:00.0000000  0.075"
      ]
     },
     "execution_count": 22,
     "metadata": {},
     "output_type": "execute_result"
    }
   ],
   "source": [
    "data.head()"
   ]
  },
  {
   "cell_type": "code",
   "execution_count": 23,
   "id": "8ee70174-d4cf-4d07-a41e-dca2fb4e8f76",
   "metadata": {},
   "outputs": [
    {
     "data": {
      "text/plain": [
       "6.3920002"
      ]
     },
     "execution_count": 23,
     "metadata": {},
     "output_type": "execute_result"
    }
   ],
   "source": [
    "data['KWhh'].max()"
   ]
  },
  {
   "cell_type": "code",
   "execution_count": 24,
   "id": "945c64e2-66f7-451e-8b53-60c537692ffc",
   "metadata": {},
   "outputs": [
    {
     "data": {
      "text/plain": [
       "0.0"
      ]
     },
     "execution_count": 24,
     "metadata": {},
     "output_type": "execute_result"
    }
   ],
   "source": [
    "data['KWhh'].min()"
   ]
  },
  {
   "cell_type": "code",
   "execution_count": 25,
   "id": "eb4ff48d-d600-42eb-9415-7b5de46197f2",
   "metadata": {},
   "outputs": [
    {
     "data": {
      "text/plain": [
       "0.2044668369145598"
      ]
     },
     "execution_count": 25,
     "metadata": {},
     "output_type": "execute_result"
    }
   ],
   "source": [
    "data['KWhh'].mean()"
   ]
  },
  {
   "cell_type": "code",
   "execution_count": 26,
   "id": "752ca682-3189-42e1-92a8-9b5c3245a60a",
   "metadata": {},
   "outputs": [],
   "source": [
    "Total_Energy=data['KWhh'].sum()"
   ]
  },
  {
   "cell_type": "code",
   "execution_count": 27,
   "id": "620679b5-b737-48a8-8ea5-158d33c28a1e",
   "metadata": {},
   "outputs": [
    {
     "name": "stdout",
     "output_type": "stream",
     "text": [
      "3064800.036951898\n"
     ]
    }
   ],
   "source": [
    "print(Total_Energy)"
   ]
  },
  {
   "cell_type": "code",
   "execution_count": 28,
   "id": "4e7ecfa2-727e-47f5-a413-3d29e82eb821",
   "metadata": {},
   "outputs": [
    {
     "data": {
      "text/plain": [
       "<pandas.core.groupby.generic.SeriesGroupBy object at 0x000000001D95C850>"
      ]
     },
     "execution_count": 28,
     "metadata": {},
     "output_type": "execute_result"
    }
   ],
   "source": [
    "data.groupby(['LCLid'])['KWhh']"
   ]
  },
  {
   "cell_type": "code",
   "execution_count": 29,
   "id": "c3094f6c-7ebb-42d6-9c55-8e35bf3baac2",
   "metadata": {},
   "outputs": [
    {
     "data": {
      "text/plain": [
       "LCLid\n",
       "MAC000515    0.105882\n",
       "MAC000516    0.166711\n",
       "MAC000517    0.105416\n",
       "MAC000518    0.139547\n",
       "MAC000519    0.381718\n",
       "               ...   \n",
       "MAC001135    0.093642\n",
       "MAC001137    0.218494\n",
       "MAC001138    0.257257\n",
       "MAC001139    0.156188\n",
       "MAC001140    0.132300\n",
       "Name: KWhh, Length: 483, dtype: float64"
      ]
     },
     "execution_count": 29,
     "metadata": {},
     "output_type": "execute_result"
    }
   ],
   "source": [
    "data.groupby(['LCLid'])['KWhh'].mean()"
   ]
  },
  {
   "cell_type": "code",
   "execution_count": 30,
   "id": "3ca75755-ec55-4468-8b4f-7859be16edc6",
   "metadata": {},
   "outputs": [
    {
     "data": {
      "text/plain": [
       "LCLid\n",
       "MAC000515    0.000\n",
       "MAC000516    0.024\n",
       "MAC000517    0.000\n",
       "MAC000518    0.000\n",
       "MAC000519    0.000\n",
       "             ...  \n",
       "MAC001135    0.029\n",
       "MAC001137    0.025\n",
       "MAC001138    0.024\n",
       "MAC001139    0.000\n",
       "MAC001140    0.009\n",
       "Name: KWhh, Length: 483, dtype: float64"
      ]
     },
     "execution_count": 30,
     "metadata": {},
     "output_type": "execute_result"
    }
   ],
   "source": [
    "data.groupby(['LCLid'])['KWhh'].min()"
   ]
  },
  {
   "cell_type": "code",
   "execution_count": 31,
   "id": "301c8384-ba40-40da-aa82-99dbe203ff73",
   "metadata": {},
   "outputs": [
    {
     "data": {
      "text/plain": [
       "LCLid\n",
       "MAC000515    2.305\n",
       "MAC000516    1.430\n",
       "MAC000517    2.282\n",
       "MAC000518    2.287\n",
       "MAC000519    3.555\n",
       "             ...  \n",
       "MAC001135    0.904\n",
       "MAC001137    3.346\n",
       "MAC001138    2.665\n",
       "MAC001139    1.142\n",
       "MAC001140    1.438\n",
       "Name: KWhh, Length: 483, dtype: float64"
      ]
     },
     "execution_count": 31,
     "metadata": {},
     "output_type": "execute_result"
    }
   ],
   "source": [
    "data.groupby(['LCLid'])['KWhh'].max()"
   ]
  },
  {
   "cell_type": "code",
   "execution_count": 32,
   "id": "1822901a-0236-4053-94ba-08bd177bfddd",
   "metadata": {},
   "outputs": [
    {
     "data": {
      "text/plain": [
       "LCLid\n",
       "MAC000515     3035.535001\n",
       "MAC000516     5621.815999\n",
       "MAC000517     3286.541001\n",
       "MAC000518     4705.369000\n",
       "MAC000519    12834.497000\n",
       "                 ...     \n",
       "MAC001135     2951.399000\n",
       "MAC001137     6885.832001\n",
       "MAC001138     8106.692000\n",
       "MAC001139     4562.266000\n",
       "MAC001140     2516.877000\n",
       "Name: KWhh, Length: 483, dtype: float64"
      ]
     },
     "execution_count": 32,
     "metadata": {},
     "output_type": "execute_result"
    }
   ],
   "source": [
    "data.groupby(['LCLid'])['KWhh'].sum()"
   ]
  },
  {
   "cell_type": "code",
   "execution_count": 238,
   "id": "992b8fae-a547-4c4d-a06f-7055de5644f1",
   "metadata": {},
   "outputs": [],
   "source": [
    "nb_compteurs=data['LCLid'].value_counts()\n",
    "somme=data.groupby(['LCLid'])['KWhh'].sum()\n",
    "maximum=data.groupby(['LCLid'])['KWhh'].max()\n",
    "minimum=data.groupby(['LCLid'])['KWhh'].min()\n",
    "avg=data.groupby(['LCLid'])['KWhh'].mean()\n",
    "avg_period=data.groupby(['LCLid','period'])['KWhh'].mean()\n",
    "avg_season=data.groupby(['LCLid','season'])['KWhh'].mean()\n",
    "avg_year=data.groupby(['LCLid','year'])['KWhh'].mean()"
   ]
  },
  {
   "cell_type": "code",
   "execution_count": 239,
   "id": "d116bda7-d3d2-47b6-8f97-bd9987e2d02a",
   "metadata": {},
   "outputs": [],
   "source": [
    "avg_season=avg_season.unstack()\n",
    "avg_year=avg_year.unstack()"
   ]
  },
  {
   "cell_type": "code",
   "execution_count": 241,
   "id": "4adadcdd-cfa9-401c-a98b-dcccbd01c630",
   "metadata": {},
   "outputs": [],
   "source": [
    "avg_summer=avg_season['summer']\n",
    "avg_autumn=avg_season['autumn']\n",
    "avg_winter=avg_season['winter']\n",
    "avg_spring=avg_season['spring']"
   ]
  },
  {
   "cell_type": "code",
   "execution_count": 247,
   "id": "80245d9d-bc5c-4b0d-a48a-259c9e999ee8",
   "metadata": {},
   "outputs": [],
   "source": [
    "avg_2012=avg_year[2012]\n",
    "avg_2013=avg_year[2013]\n",
    "avg_2014=avg_year[2014]"
   ]
  },
  {
   "cell_type": "code",
   "execution_count": 216,
   "id": "736f11d1-b9df-48ee-918b-94b5b7736814",
   "metadata": {},
   "outputs": [],
   "source": [
    "avg_period=avg_period.unstack()"
   ]
  },
  {
   "cell_type": "code",
   "execution_count": 221,
   "id": "43581abe-b4e3-4130-8f7c-1477222a1b0d",
   "metadata": {},
   "outputs": [
    {
     "data": {
      "text/html": [
       "<div>\n",
       "<style scoped>\n",
       "    .dataframe tbody tr th:only-of-type {\n",
       "        vertical-align: middle;\n",
       "    }\n",
       "\n",
       "    .dataframe tbody tr th {\n",
       "        vertical-align: top;\n",
       "    }\n",
       "\n",
       "    .dataframe thead th {\n",
       "        text-align: right;\n",
       "    }\n",
       "</style>\n",
       "<table border=\"1\" class=\"dataframe\">\n",
       "  <thead>\n",
       "    <tr style=\"text-align: right;\">\n",
       "      <th>period</th>\n",
       "      <th>early_evening</th>\n",
       "      <th>late_evening</th>\n",
       "      <th>morning</th>\n",
       "      <th>night</th>\n",
       "    </tr>\n",
       "    <tr>\n",
       "      <th>LCLid</th>\n",
       "      <th></th>\n",
       "      <th></th>\n",
       "      <th></th>\n",
       "      <th></th>\n",
       "    </tr>\n",
       "  </thead>\n",
       "  <tbody>\n",
       "    <tr>\n",
       "      <th>MAC000515</th>\n",
       "      <td>0.171570</td>\n",
       "      <td>0.163865</td>\n",
       "      <td>0.069450</td>\n",
       "      <td>0.018528</td>\n",
       "    </tr>\n",
       "    <tr>\n",
       "      <th>MAC000516</th>\n",
       "      <td>0.200404</td>\n",
       "      <td>0.215514</td>\n",
       "      <td>0.157278</td>\n",
       "      <td>0.093539</td>\n",
       "    </tr>\n",
       "    <tr>\n",
       "      <th>MAC000517</th>\n",
       "      <td>0.147995</td>\n",
       "      <td>0.130554</td>\n",
       "      <td>0.103464</td>\n",
       "      <td>0.039557</td>\n",
       "    </tr>\n",
       "    <tr>\n",
       "      <th>MAC000518</th>\n",
       "      <td>0.146996</td>\n",
       "      <td>0.219154</td>\n",
       "      <td>0.128612</td>\n",
       "      <td>0.063313</td>\n",
       "    </tr>\n",
       "    <tr>\n",
       "      <th>MAC000519</th>\n",
       "      <td>0.370841</td>\n",
       "      <td>0.657176</td>\n",
       "      <td>0.270452</td>\n",
       "      <td>0.228028</td>\n",
       "    </tr>\n",
       "    <tr>\n",
       "      <th>...</th>\n",
       "      <td>...</td>\n",
       "      <td>...</td>\n",
       "      <td>...</td>\n",
       "      <td>...</td>\n",
       "    </tr>\n",
       "    <tr>\n",
       "      <th>MAC001135</th>\n",
       "      <td>0.092694</td>\n",
       "      <td>0.134480</td>\n",
       "      <td>0.077626</td>\n",
       "      <td>0.069727</td>\n",
       "    </tr>\n",
       "    <tr>\n",
       "      <th>MAC001137</th>\n",
       "      <td>0.230597</td>\n",
       "      <td>0.255918</td>\n",
       "      <td>0.244735</td>\n",
       "      <td>0.142644</td>\n",
       "    </tr>\n",
       "    <tr>\n",
       "      <th>MAC001138</th>\n",
       "      <td>0.323709</td>\n",
       "      <td>0.364005</td>\n",
       "      <td>0.197089</td>\n",
       "      <td>0.143970</td>\n",
       "    </tr>\n",
       "    <tr>\n",
       "      <th>MAC001139</th>\n",
       "      <td>0.164037</td>\n",
       "      <td>0.200637</td>\n",
       "      <td>0.157168</td>\n",
       "      <td>0.102840</td>\n",
       "    </tr>\n",
       "    <tr>\n",
       "      <th>MAC001140</th>\n",
       "      <td>0.139985</td>\n",
       "      <td>0.187641</td>\n",
       "      <td>0.127888</td>\n",
       "      <td>0.073673</td>\n",
       "    </tr>\n",
       "  </tbody>\n",
       "</table>\n",
       "<p>483 rows × 4 columns</p>\n",
       "</div>"
      ],
      "text/plain": [
       "period     early_evening  late_evening   morning     night\n",
       "LCLid                                                     \n",
       "MAC000515       0.171570      0.163865  0.069450  0.018528\n",
       "MAC000516       0.200404      0.215514  0.157278  0.093539\n",
       "MAC000517       0.147995      0.130554  0.103464  0.039557\n",
       "MAC000518       0.146996      0.219154  0.128612  0.063313\n",
       "MAC000519       0.370841      0.657176  0.270452  0.228028\n",
       "...                  ...           ...       ...       ...\n",
       "MAC001135       0.092694      0.134480  0.077626  0.069727\n",
       "MAC001137       0.230597      0.255918  0.244735  0.142644\n",
       "MAC001138       0.323709      0.364005  0.197089  0.143970\n",
       "MAC001139       0.164037      0.200637  0.157168  0.102840\n",
       "MAC001140       0.139985      0.187641  0.127888  0.073673\n",
       "\n",
       "[483 rows x 4 columns]"
      ]
     },
     "execution_count": 221,
     "metadata": {},
     "output_type": "execute_result"
    }
   ],
   "source": [
    "avg_period"
   ]
  },
  {
   "cell_type": "code",
   "execution_count": 219,
   "id": "66b5c35a-4a6b-43ea-b9b2-9f8cf76b9f16",
   "metadata": {},
   "outputs": [],
   "source": [
    "avg_period_early_evening=avg_period['early_evening']"
   ]
  },
  {
   "cell_type": "code",
   "execution_count": 224,
   "id": "a2224822-2460-41a7-96c5-93e31fd85185",
   "metadata": {},
   "outputs": [],
   "source": [
    "avg_period_late_evening=avg_period['late_evening']"
   ]
  },
  {
   "cell_type": "code",
   "execution_count": 223,
   "id": "6f5caa76-6e24-4c73-ae5c-d27d7eae1ddc",
   "metadata": {},
   "outputs": [],
   "source": [
    "morning=avg_period['morning']"
   ]
  },
  {
   "cell_type": "code",
   "execution_count": 222,
   "id": "d9dd4ee1-cd2f-4d67-a5c7-d9df836ed3b2",
   "metadata": {},
   "outputs": [],
   "source": [
    "night=avg_period['night']"
   ]
  },
  {
   "cell_type": "code",
   "execution_count": 248,
   "id": "08cb074c-20a1-4432-b8ef-e6295f45aa2f",
   "metadata": {},
   "outputs": [
    {
     "data": {
      "text/html": [
       "<div>\n",
       "<style scoped>\n",
       "    .dataframe tbody tr th:only-of-type {\n",
       "        vertical-align: middle;\n",
       "    }\n",
       "\n",
       "    .dataframe tbody tr th {\n",
       "        vertical-align: top;\n",
       "    }\n",
       "\n",
       "    .dataframe thead th {\n",
       "        text-align: right;\n",
       "    }\n",
       "</style>\n",
       "<table border=\"1\" class=\"dataframe\">\n",
       "  <thead>\n",
       "    <tr style=\"text-align: right;\">\n",
       "      <th></th>\n",
       "      <th>Total</th>\n",
       "      <th>Minimum</th>\n",
       "      <th>Maximum</th>\n",
       "      <th>Average</th>\n",
       "      <th>early_evening_mean</th>\n",
       "      <th>late_evening_mean</th>\n",
       "      <th>morning_mean</th>\n",
       "      <th>night_mean</th>\n",
       "      <th>summer_mean</th>\n",
       "      <th>autumn_mean</th>\n",
       "      <th>winter_mean</th>\n",
       "      <th>spring_mean</th>\n",
       "      <th>avg_2012</th>\n",
       "      <th>avg_2013</th>\n",
       "      <th>avg_2014</th>\n",
       "    </tr>\n",
       "    <tr>\n",
       "      <th>LCLid</th>\n",
       "      <th></th>\n",
       "      <th></th>\n",
       "      <th></th>\n",
       "      <th></th>\n",
       "      <th></th>\n",
       "      <th></th>\n",
       "      <th></th>\n",
       "      <th></th>\n",
       "      <th></th>\n",
       "      <th></th>\n",
       "      <th></th>\n",
       "      <th></th>\n",
       "      <th></th>\n",
       "      <th></th>\n",
       "      <th></th>\n",
       "    </tr>\n",
       "  </thead>\n",
       "  <tbody>\n",
       "    <tr>\n",
       "      <th>MAC000515</th>\n",
       "      <td>3035.535001</td>\n",
       "      <td>0.000</td>\n",
       "      <td>2.305</td>\n",
       "      <td>0.105882</td>\n",
       "      <td>0.171570</td>\n",
       "      <td>0.163865</td>\n",
       "      <td>0.069450</td>\n",
       "      <td>0.018528</td>\n",
       "      <td>0.072973</td>\n",
       "      <td>0.117077</td>\n",
       "      <td>0.127460</td>\n",
       "      <td>0.076080</td>\n",
       "      <td>0.104828</td>\n",
       "      <td>0.103378</td>\n",
       "      <td>0.124805</td>\n",
       "    </tr>\n",
       "    <tr>\n",
       "      <th>MAC000516</th>\n",
       "      <td>5621.815999</td>\n",
       "      <td>0.024</td>\n",
       "      <td>1.430</td>\n",
       "      <td>0.166711</td>\n",
       "      <td>0.200404</td>\n",
       "      <td>0.215514</td>\n",
       "      <td>0.157278</td>\n",
       "      <td>0.093539</td>\n",
       "      <td>0.163874</td>\n",
       "      <td>0.162199</td>\n",
       "      <td>0.180410</td>\n",
       "      <td>0.153625</td>\n",
       "      <td>0.163330</td>\n",
       "      <td>0.168230</td>\n",
       "      <td>0.173443</td>\n",
       "    </tr>\n",
       "    <tr>\n",
       "      <th>MAC000517</th>\n",
       "      <td>3286.541001</td>\n",
       "      <td>0.000</td>\n",
       "      <td>2.282</td>\n",
       "      <td>0.105416</td>\n",
       "      <td>0.147995</td>\n",
       "      <td>0.130554</td>\n",
       "      <td>0.103464</td>\n",
       "      <td>0.039557</td>\n",
       "      <td>0.075531</td>\n",
       "      <td>0.075364</td>\n",
       "      <td>0.150103</td>\n",
       "      <td>0.134931</td>\n",
       "      <td>0.116797</td>\n",
       "      <td>0.095838</td>\n",
       "      <td>0.153409</td>\n",
       "    </tr>\n",
       "    <tr>\n",
       "      <th>MAC000518</th>\n",
       "      <td>4705.369000</td>\n",
       "      <td>0.000</td>\n",
       "      <td>2.287</td>\n",
       "      <td>0.139547</td>\n",
       "      <td>0.146996</td>\n",
       "      <td>0.219154</td>\n",
       "      <td>0.128612</td>\n",
       "      <td>0.063313</td>\n",
       "      <td>0.124118</td>\n",
       "      <td>0.141257</td>\n",
       "      <td>0.144630</td>\n",
       "      <td>0.151329</td>\n",
       "      <td>0.128308</td>\n",
       "      <td>0.147377</td>\n",
       "      <td>0.144436</td>\n",
       "    </tr>\n",
       "    <tr>\n",
       "      <th>MAC000519</th>\n",
       "      <td>12834.497000</td>\n",
       "      <td>0.000</td>\n",
       "      <td>3.555</td>\n",
       "      <td>0.381718</td>\n",
       "      <td>0.370841</td>\n",
       "      <td>0.657176</td>\n",
       "      <td>0.270452</td>\n",
       "      <td>0.228028</td>\n",
       "      <td>0.279319</td>\n",
       "      <td>0.388510</td>\n",
       "      <td>0.457420</td>\n",
       "      <td>0.391258</td>\n",
       "      <td>0.364165</td>\n",
       "      <td>0.389803</td>\n",
       "      <td>0.414799</td>\n",
       "    </tr>\n",
       "    <tr>\n",
       "      <th>...</th>\n",
       "      <td>...</td>\n",
       "      <td>...</td>\n",
       "      <td>...</td>\n",
       "      <td>...</td>\n",
       "      <td>...</td>\n",
       "      <td>...</td>\n",
       "      <td>...</td>\n",
       "      <td>...</td>\n",
       "      <td>...</td>\n",
       "      <td>...</td>\n",
       "      <td>...</td>\n",
       "      <td>...</td>\n",
       "      <td>...</td>\n",
       "      <td>...</td>\n",
       "      <td>...</td>\n",
       "    </tr>\n",
       "    <tr>\n",
       "      <th>MAC001135</th>\n",
       "      <td>2951.399000</td>\n",
       "      <td>0.029</td>\n",
       "      <td>0.904</td>\n",
       "      <td>0.093642</td>\n",
       "      <td>0.092694</td>\n",
       "      <td>0.134480</td>\n",
       "      <td>0.077626</td>\n",
       "      <td>0.069727</td>\n",
       "      <td>0.094318</td>\n",
       "      <td>0.093052</td>\n",
       "      <td>0.094435</td>\n",
       "      <td>0.091470</td>\n",
       "      <td>0.095888</td>\n",
       "      <td>0.092435</td>\n",
       "      <td>0.092190</td>\n",
       "    </tr>\n",
       "    <tr>\n",
       "      <th>MAC001137</th>\n",
       "      <td>6885.832001</td>\n",
       "      <td>0.025</td>\n",
       "      <td>3.346</td>\n",
       "      <td>0.218494</td>\n",
       "      <td>0.230597</td>\n",
       "      <td>0.255918</td>\n",
       "      <td>0.244735</td>\n",
       "      <td>0.142644</td>\n",
       "      <td>0.181620</td>\n",
       "      <td>0.221476</td>\n",
       "      <td>0.259027</td>\n",
       "      <td>0.190939</td>\n",
       "      <td>0.296648</td>\n",
       "      <td>0.177574</td>\n",
       "      <td>0.158786</td>\n",
       "    </tr>\n",
       "    <tr>\n",
       "      <th>MAC001138</th>\n",
       "      <td>8106.692000</td>\n",
       "      <td>0.024</td>\n",
       "      <td>2.665</td>\n",
       "      <td>0.257257</td>\n",
       "      <td>0.323709</td>\n",
       "      <td>0.364005</td>\n",
       "      <td>0.197089</td>\n",
       "      <td>0.143970</td>\n",
       "      <td>0.228817</td>\n",
       "      <td>0.269595</td>\n",
       "      <td>0.275954</td>\n",
       "      <td>0.245017</td>\n",
       "      <td>0.256510</td>\n",
       "      <td>0.255393</td>\n",
       "      <td>0.271989</td>\n",
       "    </tr>\n",
       "    <tr>\n",
       "      <th>MAC001139</th>\n",
       "      <td>4562.266000</td>\n",
       "      <td>0.000</td>\n",
       "      <td>1.142</td>\n",
       "      <td>0.156188</td>\n",
       "      <td>0.164037</td>\n",
       "      <td>0.200637</td>\n",
       "      <td>0.157168</td>\n",
       "      <td>0.102840</td>\n",
       "      <td>0.148573</td>\n",
       "      <td>0.147780</td>\n",
       "      <td>0.176558</td>\n",
       "      <td>0.152510</td>\n",
       "      <td>0.160861</td>\n",
       "      <td>0.153083</td>\n",
       "      <td>0.160181</td>\n",
       "    </tr>\n",
       "    <tr>\n",
       "      <th>MAC001140</th>\n",
       "      <td>2516.877000</td>\n",
       "      <td>0.009</td>\n",
       "      <td>1.438</td>\n",
       "      <td>0.132300</td>\n",
       "      <td>0.139985</td>\n",
       "      <td>0.187641</td>\n",
       "      <td>0.127888</td>\n",
       "      <td>0.073673</td>\n",
       "      <td>0.113706</td>\n",
       "      <td>0.125564</td>\n",
       "      <td>0.158798</td>\n",
       "      <td>0.124355</td>\n",
       "      <td>0.122420</td>\n",
       "      <td>0.146630</td>\n",
       "      <td>NaN</td>\n",
       "    </tr>\n",
       "  </tbody>\n",
       "</table>\n",
       "<p>483 rows × 15 columns</p>\n",
       "</div>"
      ],
      "text/plain": [
       "                  Total  Minimum  Maximum   Average  early_evening_mean  \\\n",
       "LCLid                                                                     \n",
       "MAC000515   3035.535001    0.000    2.305  0.105882            0.171570   \n",
       "MAC000516   5621.815999    0.024    1.430  0.166711            0.200404   \n",
       "MAC000517   3286.541001    0.000    2.282  0.105416            0.147995   \n",
       "MAC000518   4705.369000    0.000    2.287  0.139547            0.146996   \n",
       "MAC000519  12834.497000    0.000    3.555  0.381718            0.370841   \n",
       "...                 ...      ...      ...       ...                 ...   \n",
       "MAC001135   2951.399000    0.029    0.904  0.093642            0.092694   \n",
       "MAC001137   6885.832001    0.025    3.346  0.218494            0.230597   \n",
       "MAC001138   8106.692000    0.024    2.665  0.257257            0.323709   \n",
       "MAC001139   4562.266000    0.000    1.142  0.156188            0.164037   \n",
       "MAC001140   2516.877000    0.009    1.438  0.132300            0.139985   \n",
       "\n",
       "           late_evening_mean  morning_mean  night_mean  summer_mean  \\\n",
       "LCLid                                                                 \n",
       "MAC000515           0.163865      0.069450    0.018528     0.072973   \n",
       "MAC000516           0.215514      0.157278    0.093539     0.163874   \n",
       "MAC000517           0.130554      0.103464    0.039557     0.075531   \n",
       "MAC000518           0.219154      0.128612    0.063313     0.124118   \n",
       "MAC000519           0.657176      0.270452    0.228028     0.279319   \n",
       "...                      ...           ...         ...          ...   \n",
       "MAC001135           0.134480      0.077626    0.069727     0.094318   \n",
       "MAC001137           0.255918      0.244735    0.142644     0.181620   \n",
       "MAC001138           0.364005      0.197089    0.143970     0.228817   \n",
       "MAC001139           0.200637      0.157168    0.102840     0.148573   \n",
       "MAC001140           0.187641      0.127888    0.073673     0.113706   \n",
       "\n",
       "           autumn_mean  winter_mean  spring_mean  avg_2012  avg_2013  avg_2014  \n",
       "LCLid                                                                           \n",
       "MAC000515     0.117077     0.127460     0.076080  0.104828  0.103378  0.124805  \n",
       "MAC000516     0.162199     0.180410     0.153625  0.163330  0.168230  0.173443  \n",
       "MAC000517     0.075364     0.150103     0.134931  0.116797  0.095838  0.153409  \n",
       "MAC000518     0.141257     0.144630     0.151329  0.128308  0.147377  0.144436  \n",
       "MAC000519     0.388510     0.457420     0.391258  0.364165  0.389803  0.414799  \n",
       "...                ...          ...          ...       ...       ...       ...  \n",
       "MAC001135     0.093052     0.094435     0.091470  0.095888  0.092435  0.092190  \n",
       "MAC001137     0.221476     0.259027     0.190939  0.296648  0.177574  0.158786  \n",
       "MAC001138     0.269595     0.275954     0.245017  0.256510  0.255393  0.271989  \n",
       "MAC001139     0.147780     0.176558     0.152510  0.160861  0.153083  0.160181  \n",
       "MAC001140     0.125564     0.158798     0.124355  0.122420  0.146630       NaN  \n",
       "\n",
       "[483 rows x 15 columns]"
      ]
     },
     "execution_count": 248,
     "metadata": {},
     "output_type": "execute_result"
    }
   ],
   "source": [
    "consumption=pd.DataFrame({'Total':somme,'Minimum':minimum,'Maximum':maximum,'Average':avg,'early_evening_mean':avg_period_early_evening,'late_evening_mean':avg_period_late_evening,'morning_mean':morning,'night_mean':night,'summer_mean':avg_summer,'autumn_mean':avg_autumn,'winter_mean':avg_winter,'spring_mean':avg_spring,'avg_2012':avg_2012,'avg_2013':avg_2013,'avg_2014':avg_2014})\n",
    "consumption"
   ]
  },
  {
   "cell_type": "code",
   "execution_count": 249,
   "id": "5df70d64-d1ae-41b0-b815-fb6d94bf94bc",
   "metadata": {},
   "outputs": [],
   "source": [
    "consumption=consumption.fillna(0)"
   ]
  },
  {
   "cell_type": "code",
   "execution_count": 35,
   "id": "a5a980ff-7155-40c5-93f0-bac73a6b2e5e",
   "metadata": {},
   "outputs": [],
   "source": [
    "data=data.iloc[:,1:]"
   ]
  },
  {
   "cell_type": "code",
   "execution_count": 36,
   "id": "eabf069b-4590-49ba-b22b-d7e61f1ddec6",
   "metadata": {},
   "outputs": [
    {
     "data": {
      "text/html": [
       "<div>\n",
       "<style scoped>\n",
       "    .dataframe tbody tr th:only-of-type {\n",
       "        vertical-align: middle;\n",
       "    }\n",
       "\n",
       "    .dataframe tbody tr th {\n",
       "        vertical-align: top;\n",
       "    }\n",
       "\n",
       "    .dataframe thead th {\n",
       "        text-align: right;\n",
       "    }\n",
       "</style>\n",
       "<table border=\"1\" class=\"dataframe\">\n",
       "  <thead>\n",
       "    <tr style=\"text-align: right;\">\n",
       "      <th></th>\n",
       "      <th>LCLid</th>\n",
       "      <th>DateTime</th>\n",
       "      <th>KWhh</th>\n",
       "    </tr>\n",
       "  </thead>\n",
       "  <tbody>\n",
       "    <tr>\n",
       "      <th>0</th>\n",
       "      <td>MAC000515</td>\n",
       "      <td>2012-07-10 14:30:00.0000000</td>\n",
       "      <td>0.028</td>\n",
       "    </tr>\n",
       "    <tr>\n",
       "      <th>1</th>\n",
       "      <td>MAC000515</td>\n",
       "      <td>2012-07-10 15:00:00.0000000</td>\n",
       "      <td>0.027</td>\n",
       "    </tr>\n",
       "    <tr>\n",
       "      <th>2</th>\n",
       "      <td>MAC000515</td>\n",
       "      <td>2012-07-10 15:30:00.0000000</td>\n",
       "      <td>0.026</td>\n",
       "    </tr>\n",
       "    <tr>\n",
       "      <th>3</th>\n",
       "      <td>MAC000515</td>\n",
       "      <td>2012-07-10 16:00:00.0000000</td>\n",
       "      <td>0.025</td>\n",
       "    </tr>\n",
       "    <tr>\n",
       "      <th>4</th>\n",
       "      <td>MAC000515</td>\n",
       "      <td>2012-07-10 16:30:00.0000000</td>\n",
       "      <td>0.075</td>\n",
       "    </tr>\n",
       "  </tbody>\n",
       "</table>\n",
       "</div>"
      ],
      "text/plain": [
       "       LCLid                     DateTime   KWhh\n",
       "0  MAC000515  2012-07-10 14:30:00.0000000  0.028\n",
       "1  MAC000515  2012-07-10 15:00:00.0000000  0.027\n",
       "2  MAC000515  2012-07-10 15:30:00.0000000  0.026\n",
       "3  MAC000515  2012-07-10 16:00:00.0000000  0.025\n",
       "4  MAC000515  2012-07-10 16:30:00.0000000  0.075"
      ]
     },
     "execution_count": 36,
     "metadata": {},
     "output_type": "execute_result"
    }
   ],
   "source": [
    "data.head()"
   ]
  },
  {
   "cell_type": "code",
   "execution_count": 37,
   "id": "8423e8fa-214e-4842-9dac-8eb9243a4e3c",
   "metadata": {},
   "outputs": [],
   "source": [
    "data['DateTime']= pd.to_datetime(data['DateTime'])"
   ]
  },
  {
   "cell_type": "code",
   "execution_count": 38,
   "id": "0a46992c-b184-47ee-a964-422d4a563213",
   "metadata": {},
   "outputs": [
    {
     "data": {
      "text/plain": [
       "0          2012-07-10 14:30:00\n",
       "1          2012-07-10 15:00:00\n",
       "2          2012-07-10 15:30:00\n",
       "3          2012-07-10 16:00:00\n",
       "4          2012-07-10 16:30:00\n",
       "                   ...        \n",
       "14989706   2013-06-11 15:30:00\n",
       "14989707   2013-06-11 16:00:00\n",
       "14989708   2013-06-11 16:30:00\n",
       "14989709   2013-06-11 17:00:00\n",
       "14989710   2013-06-11 17:30:00\n",
       "Name: DateTime, Length: 14989228, dtype: datetime64[ns]"
      ]
     },
     "execution_count": 38,
     "metadata": {},
     "output_type": "execute_result"
    }
   ],
   "source": [
    "data['DateTime']"
   ]
  },
  {
   "cell_type": "code",
   "execution_count": 39,
   "id": "9d437883-e840-4736-ba40-8d2a9fdd3eb9",
   "metadata": {},
   "outputs": [],
   "source": [
    "data['year'] = pd.DatetimeIndex(data['DateTime']).year\n",
    "data['month'] = pd.DatetimeIndex(data['DateTime']).month\n",
    "data['day'] = pd.DatetimeIndex(data['DateTime']).day"
   ]
  },
  {
   "cell_type": "code",
   "execution_count": 56,
   "id": "7c6777c5-8a2d-4e6c-8da4-c2be386c7929",
   "metadata": {},
   "outputs": [],
   "source": [
    "data['Weekday']=data['DateTime'].dt.day_name()"
   ]
  },
  {
   "cell_type": "code",
   "execution_count": 57,
   "id": "6ba79aed-7325-47b5-9e02-6807b460b37e",
   "metadata": {},
   "outputs": [
    {
     "data": {
      "text/html": [
       "<div>\n",
       "<style scoped>\n",
       "    .dataframe tbody tr th:only-of-type {\n",
       "        vertical-align: middle;\n",
       "    }\n",
       "\n",
       "    .dataframe tbody tr th {\n",
       "        vertical-align: top;\n",
       "    }\n",
       "\n",
       "    .dataframe thead th {\n",
       "        text-align: right;\n",
       "    }\n",
       "</style>\n",
       "<table border=\"1\" class=\"dataframe\">\n",
       "  <thead>\n",
       "    <tr style=\"text-align: right;\">\n",
       "      <th></th>\n",
       "      <th>LCLid</th>\n",
       "      <th>DateTime</th>\n",
       "      <th>KWhh</th>\n",
       "      <th>year</th>\n",
       "      <th>month</th>\n",
       "      <th>day</th>\n",
       "      <th>hour</th>\n",
       "      <th>minute</th>\n",
       "      <th>season</th>\n",
       "      <th>season_encoded</th>\n",
       "      <th>period</th>\n",
       "      <th>period_enc</th>\n",
       "      <th>Weekday</th>\n",
       "    </tr>\n",
       "  </thead>\n",
       "  <tbody>\n",
       "    <tr>\n",
       "      <th>0</th>\n",
       "      <td>MAC000515</td>\n",
       "      <td>2012-07-10 14:30:00</td>\n",
       "      <td>0.028</td>\n",
       "      <td>2012</td>\n",
       "      <td>7</td>\n",
       "      <td>10</td>\n",
       "      <td>14</td>\n",
       "      <td>30</td>\n",
       "      <td>summer</td>\n",
       "      <td>1</td>\n",
       "      <td>early_evening</td>\n",
       "      <td>3</td>\n",
       "      <td>Tuesday</td>\n",
       "    </tr>\n",
       "    <tr>\n",
       "      <th>1</th>\n",
       "      <td>MAC000515</td>\n",
       "      <td>2012-07-10 15:00:00</td>\n",
       "      <td>0.027</td>\n",
       "      <td>2012</td>\n",
       "      <td>7</td>\n",
       "      <td>10</td>\n",
       "      <td>15</td>\n",
       "      <td>0</td>\n",
       "      <td>summer</td>\n",
       "      <td>1</td>\n",
       "      <td>early_evening</td>\n",
       "      <td>3</td>\n",
       "      <td>Tuesday</td>\n",
       "    </tr>\n",
       "    <tr>\n",
       "      <th>2</th>\n",
       "      <td>MAC000515</td>\n",
       "      <td>2012-07-10 15:30:00</td>\n",
       "      <td>0.026</td>\n",
       "      <td>2012</td>\n",
       "      <td>7</td>\n",
       "      <td>10</td>\n",
       "      <td>15</td>\n",
       "      <td>30</td>\n",
       "      <td>summer</td>\n",
       "      <td>1</td>\n",
       "      <td>early_evening</td>\n",
       "      <td>3</td>\n",
       "      <td>Tuesday</td>\n",
       "    </tr>\n",
       "    <tr>\n",
       "      <th>3</th>\n",
       "      <td>MAC000515</td>\n",
       "      <td>2012-07-10 16:00:00</td>\n",
       "      <td>0.025</td>\n",
       "      <td>2012</td>\n",
       "      <td>7</td>\n",
       "      <td>10</td>\n",
       "      <td>16</td>\n",
       "      <td>0</td>\n",
       "      <td>summer</td>\n",
       "      <td>1</td>\n",
       "      <td>early_evening</td>\n",
       "      <td>3</td>\n",
       "      <td>Tuesday</td>\n",
       "    </tr>\n",
       "    <tr>\n",
       "      <th>4</th>\n",
       "      <td>MAC000515</td>\n",
       "      <td>2012-07-10 16:30:00</td>\n",
       "      <td>0.075</td>\n",
       "      <td>2012</td>\n",
       "      <td>7</td>\n",
       "      <td>10</td>\n",
       "      <td>16</td>\n",
       "      <td>30</td>\n",
       "      <td>summer</td>\n",
       "      <td>1</td>\n",
       "      <td>early_evening</td>\n",
       "      <td>3</td>\n",
       "      <td>Tuesday</td>\n",
       "    </tr>\n",
       "  </tbody>\n",
       "</table>\n",
       "</div>"
      ],
      "text/plain": [
       "       LCLid            DateTime   KWhh  year  month  day  hour  minute  \\\n",
       "0  MAC000515 2012-07-10 14:30:00  0.028  2012      7   10    14      30   \n",
       "1  MAC000515 2012-07-10 15:00:00  0.027  2012      7   10    15       0   \n",
       "2  MAC000515 2012-07-10 15:30:00  0.026  2012      7   10    15      30   \n",
       "3  MAC000515 2012-07-10 16:00:00  0.025  2012      7   10    16       0   \n",
       "4  MAC000515 2012-07-10 16:30:00  0.075  2012      7   10    16      30   \n",
       "\n",
       "   season  season_encoded         period  period_enc  Weekday  \n",
       "0  summer               1  early_evening           3  Tuesday  \n",
       "1  summer               1  early_evening           3  Tuesday  \n",
       "2  summer               1  early_evening           3  Tuesday  \n",
       "3  summer               1  early_evening           3  Tuesday  \n",
       "4  summer               1  early_evening           3  Tuesday  "
      ]
     },
     "execution_count": 57,
     "metadata": {},
     "output_type": "execute_result"
    }
   ],
   "source": [
    "data.head()"
   ]
  },
  {
   "cell_type": "code",
   "execution_count": 41,
   "id": "38142b51-2939-440d-a7c8-47e1ca90669d",
   "metadata": {},
   "outputs": [],
   "source": [
    "data['hour'] = pd.DatetimeIndex(data['DateTime']).hour\n",
    "data['minute'] = pd.DatetimeIndex(data['DateTime']).minute"
   ]
  },
  {
   "cell_type": "code",
   "execution_count": 42,
   "id": "b32677c8-6967-42d9-83a0-a2ee92059f55",
   "metadata": {},
   "outputs": [],
   "source": [
    "summer=[6,7,8]\n",
    "autumn=[9,10,11]\n",
    "winter=[12,1,2]\n",
    "spring=[3,4,5]\n",
    "data['season']='summer'\n",
    "data['season']=data['season'].where(data['month']<9,'autumn')"
   ]
  },
  {
   "cell_type": "code",
   "execution_count": 43,
   "id": "74ed5201-6443-4255-947c-8661d0b1920c",
   "metadata": {},
   "outputs": [],
   "source": [
    "data['season']=data['season'].where(data['month']<12,'winter')\n",
    "data['season']=data['season'].where(data['month']>5,'spring')\n",
    "data['season']=data['season'].where(data['month']>3,'winter')"
   ]
  },
  {
   "cell_type": "code",
   "execution_count": 44,
   "id": "f359c57d-2347-420c-a331-c5823d16c8ae",
   "metadata": {},
   "outputs": [],
   "source": [
    "summer=[6,7,8]\n",
    "autumn=[9,10,11]\n",
    "winter=[12,1,2]\n",
    "spring=[3,4,5]\n",
    "data['season_encoded']=1\n",
    "data['season_encoded']=data['season_encoded'].where(data['month']<9,2)"
   ]
  },
  {
   "cell_type": "code",
   "execution_count": 45,
   "id": "4c2baabc-c0c8-4bdd-b53a-e9b888a4da1d",
   "metadata": {},
   "outputs": [],
   "source": [
    "data['season_encoded']=data['season_encoded'].where(data['month']<12,3)\n",
    "data['season_encoded']=data['season_encoded'].where(data['month']>5,4)\n",
    "data['season_encoded']=data['season_encoded'].where(data['month']>3,3)"
   ]
  },
  {
   "cell_type": "code",
   "execution_count": 46,
   "id": "7e2aa2d5-8068-49d1-bb6d-5a969de2034a",
   "metadata": {},
   "outputs": [],
   "source": [
    "morning=[6-12]\n",
    "early_evening=[12-18]\n",
    "late_evening=[18-0]\n",
    "night=[0-6]\n",
    "data['period']='night'\n",
    "data['period']=data['period'].where(data['hour']<6,'morning')\n",
    "data['period']=data['period'].where(data['hour']<12,'early_evening')\n",
    "data['period']=data['period'].where(data['hour']<18,'late_evening')"
   ]
  },
  {
   "cell_type": "code",
   "execution_count": 47,
   "id": "11d15ee4-1c25-4589-9a22-c91cbbe15e41",
   "metadata": {},
   "outputs": [],
   "source": [
    "morning=[6-12]\n",
    "early_evening=[12-18]\n",
    "late_evening=[18-0]\n",
    "night=[0-6]\n",
    "data['period_enc']=1\n",
    "data['period_enc']=data['period_enc'].where(data['hour']<6,2)\n",
    "data['period_enc']=data['period_enc'].where(data['hour']<12,3)\n",
    "data['period_enc']=data['period_enc'].where(data['hour']<18,4)"
   ]
  },
  {
   "cell_type": "code",
   "execution_count": 48,
   "id": "12d73db8-61ca-484e-b986-43041cdb6e17",
   "metadata": {},
   "outputs": [
    {
     "data": {
      "text/plain": [
       "<matplotlib.legend.Legend at 0x1d973850>"
      ]
     },
     "execution_count": 48,
     "metadata": {},
     "output_type": "execute_result"
    },
    {
     "data": {
      "image/png": "[encoded data removed]",
      "text/plain": [
       "<Figure size 432x288 with 1 Axes>"
      ]
     },
     "metadata": {
      "needs_background": "light"
     },
     "output_type": "display_data"
    }
   ],
   "source": [
    "data.groupby('year')['KWhh'].plot(kind='kde')\n",
    "xmin, xmax = plt. xlim(0,0.5)\n",
    "plt.legend(['2012', '2013','2014'], title='Year distribution')\n"
   ]
  },
  {
   "cell_type": "code",
   "execution_count": 49,
   "id": "5edcc04d-0861-4514-8bc2-769f969b8b10",
   "metadata": {},
   "outputs": [
    {
     "data": {
      "text/plain": [
       "<matplotlib.legend.Legend at 0x19bed90>"
      ]
     },
     "execution_count": 49,
     "metadata": {},
     "output_type": "execute_result"
    },
    {
     "data": {
      "image/png": "[encoded data removed]",
      "text/plain": [
       "<Figure size 432x288 with 1 Axes>"
      ]
     },
     "metadata": {
      "needs_background": "light"
     },
     "output_type": "display_data"
    }
   ],
   "source": [
    "data.groupby('season')['KWhh'].plot(kind='kde')\n",
    "xmin, xmax = plt. xlim(0,0.5)\n",
    "plt.legend(['autumun', 'winter','spring','summer'], title='Season distribution')\n"
   ]
  },
  {
   "cell_type": "code",
   "execution_count": 50,
   "id": "3b95c4bd-da7e-4011-b63e-2f67a6807485",
   "metadata": {},
   "outputs": [
    {
     "data": {
      "image/png": "[encoded data removed]",
      "text/plain": [
       "<Figure size 432x288 with 1 Axes>"
      ]
     },
     "metadata": {
      "needs_background": "light"
     },
     "output_type": "display_data"
    }
   ],
   "source": [
    "sns.kdeplot(data['KWhh'])\n",
    "plt.show()"
   ]
  },
  {
   "cell_type": "code",
   "execution_count": 51,
   "id": "e2b0d2b3-ab5a-478a-86cc-a49df5cba0ed",
   "metadata": {},
   "outputs": [
    {
     "data": {
      "image/png": "[encoded data removed]",
      "text/plain": [
       "<Figure size 720x720 with 4 Axes>"
      ]
     },
     "metadata": {
      "needs_background": "light"
     },
     "output_type": "display_data"
    }
   ],
   "source": [
    "fig, ax = plt.subplots(2,2,figsize=(10,10))\n",
    "\n",
    "sns.kdeplot(data[:1000000]['KWhh'],ax=ax[0,0]).set(title='15eme compteur')\n",
    "sns.kdeplot(data[1000000:2000000]['KWhh'],ax=ax[0,1]).set(title='16eme compteur')\n",
    "sns.kdeplot(data[2000000:3000000]['KWhh'],ax=ax[1,0]).set(title='17eme compteur')\n",
    "sns.kdeplot(data[3000000:4000000]['KWhh'],ax=ax[1,1]).set(title='18eme compteur')\n",
    "plt.show()"
   ]
  },
  {
   "cell_type": "code",
   "execution_count": 52,
   "id": "15bb0b05-b676-4e1e-981a-f4476dd56703",
   "metadata": {},
   "outputs": [
    {
     "data": {
      "text/plain": [
       "Index(['LCLid', 'DateTime', 'KWhh', 'year', 'month', 'day', 'hour', 'minute',\n",
       "       'season', 'season_encoded', 'period', 'period_enc'],\n",
       "      dtype='object')"
      ]
     },
     "execution_count": 52,
     "metadata": {},
     "output_type": "execute_result"
    }
   ],
   "source": [
    "data.columns"
   ]
  },
  {
   "cell_type": "code",
   "execution_count": 53,
   "id": "4a8cdafc-2d5c-46ad-addc-68faa7a332d3",
   "metadata": {
    "collapsed": true,
    "jupyter": {
     "outputs_hidden": true
    },
    "tags": []
   },
   "outputs": [
    {
     "data": {
      "text/plain": [
       "array(['MAC000515', 'MAC000516', 'MAC000517', 'MAC000518', 'MAC000519',\n",
       "       'MAC000520', 'MAC000522', 'MAC000524', 'MAC000526', 'MAC000527',\n",
       "       'MAC000528', 'MAC000530', 'MAC000531', 'MAC000532', 'MAC000533',\n",
       "       'MAC000534', 'MAC000535', 'MAC000536', 'MAC000538', 'MAC000539',\n",
       "       'MAC000540', 'MAC000541', 'MAC000542', 'MAC000543', 'MAC000545',\n",
       "       'MAC000546', 'MAC000547', 'MAC000548', 'MAC000550', 'MAC000551',\n",
       "       'MAC000552', 'MAC000553', 'MAC000554', 'MAC000555', 'MAC000556',\n",
       "       'MAC000557', 'MAC000558', 'MAC000559', 'MAC000560', 'MAC000562',\n",
       "       'MAC000563', 'MAC000564', 'MAC000566', 'MAC000567', 'MAC000568',\n",
       "       'MAC000569', 'MAC000570', 'MAC000571', 'MAC000572', 'MAC000573',\n",
       "       'MAC000574', 'MAC000575', 'MAC000576', 'MAC000577', 'MAC000578',\n",
       "       'MAC000579', 'MAC000580', 'MAC000581', 'MAC000585', 'MAC000588',\n",
       "       'MAC000589', 'MAC000591', 'MAC000592', 'MAC000594', 'MAC000596',\n",
       "       'MAC000597', 'MAC000599', 'MAC000600', 'MAC000601', 'MAC000602',\n",
       "       'MAC000603', 'MAC000604', 'MAC000606', 'MAC000607', 'MAC000608',\n",
       "       'MAC000610', 'MAC000612', 'MAC000613', 'MAC000614', 'MAC000615',\n",
       "       'MAC000616', 'MAC000618', 'MAC000619', 'MAC000621', 'MAC000622',\n",
       "       'MAC000623', 'MAC000624', 'MAC000625', 'MAC000626', 'MAC000627',\n",
       "       'MAC000629', 'MAC000630', 'MAC000631', 'MAC000632', 'MAC000634',\n",
       "       'MAC000636', 'MAC000637', 'MAC000638', 'MAC000639', 'MAC000642',\n",
       "       'MAC000643', 'MAC000644', 'MAC000645', 'MAC000646', 'MAC000647',\n",
       "       'MAC000648', 'MAC000649', 'MAC000650', 'MAC000651', 'MAC000652',\n",
       "       'MAC000654', 'MAC000655', 'MAC000656', 'MAC000657', 'MAC000658',\n",
       "       'MAC000659', 'MAC000660', 'MAC000661', 'MAC000662', 'MAC000663',\n",
       "       'MAC000664', 'MAC000667', 'MAC000668', 'MAC000669', 'MAC000670',\n",
       "       'MAC000671', 'MAC000674', 'MAC000675', 'MAC000676', 'MAC000677',\n",
       "       'MAC000678', 'MAC000679', 'MAC000682', 'MAC000684', 'MAC000685',\n",
       "       'MAC000686', 'MAC000689', 'MAC000690', 'MAC000691', 'MAC000692',\n",
       "       'MAC000693', 'MAC000694', 'MAC000695', 'MAC000696', 'MAC000697',\n",
       "       'MAC000698', 'MAC000699', 'MAC000700', 'MAC000701', 'MAC000702',\n",
       "       'MAC000703', 'MAC000705', 'MAC000706', 'MAC000707', 'MAC000711',\n",
       "       'MAC000712', 'MAC000713', 'MAC000714', 'MAC000715', 'MAC000717',\n",
       "       'MAC000718', 'MAC000720', 'MAC000721', 'MAC000723', 'MAC000724',\n",
       "       'MAC000726', 'MAC000727', 'MAC000729', 'MAC000730', 'MAC000731',\n",
       "       'MAC000732', 'MAC000733', 'MAC000734', 'MAC000735', 'MAC000736',\n",
       "       'MAC000737', 'MAC000740', 'MAC000741', 'MAC000742', 'MAC000743',\n",
       "       'MAC000744', 'MAC000745', 'MAC000746', 'MAC000747', 'MAC000748',\n",
       "       'MAC000749', 'MAC000750', 'MAC000752', 'MAC000753', 'MAC000756',\n",
       "       'MAC000757', 'MAC000758', 'MAC000760', 'MAC000761', 'MAC000762',\n",
       "       'MAC000763', 'MAC000764', 'MAC000765', 'MAC000767', 'MAC000768',\n",
       "       'MAC000769', 'MAC000770', 'MAC000771', 'MAC000773', 'MAC000774',\n",
       "       'MAC000776', 'MAC000777', 'MAC000778', 'MAC000779', 'MAC000780',\n",
       "       'MAC000781', 'MAC000782', 'MAC000783', 'MAC000784', 'MAC000786',\n",
       "       'MAC000787', 'MAC000788', 'MAC000790', 'MAC000792', 'MAC000793',\n",
       "       'MAC000794', 'MAC000795', 'MAC000796', 'MAC000798', 'MAC000799',\n",
       "       'MAC000800', 'MAC000802', 'MAC000804', 'MAC000806', 'MAC000807',\n",
       "       'MAC000808', 'MAC000809', 'MAC000811', 'MAC000812', 'MAC000813',\n",
       "       'MAC000815', 'MAC000816', 'MAC000818', 'MAC000820', 'MAC000823',\n",
       "       'MAC000824', 'MAC000825', 'MAC000826', 'MAC000827', 'MAC000829',\n",
       "       'MAC000831', 'MAC000832', 'MAC000833', 'MAC000835', 'MAC000836',\n",
       "       'MAC000837', 'MAC000838', 'MAC000839', 'MAC000840', 'MAC000842',\n",
       "       'MAC000843', 'MAC000844', 'MAC000846', 'MAC000848', 'MAC000849',\n",
       "       'MAC000850', 'MAC000852', 'MAC000853', 'MAC000854', 'MAC000855',\n",
       "       'MAC000856', 'MAC000858', 'MAC000860', 'MAC000861', 'MAC000862',\n",
       "       'MAC000863', 'MAC000864', 'MAC000865', 'MAC000866', 'MAC000867',\n",
       "       'MAC000869', 'MAC000870', 'MAC000871', 'MAC000872', 'MAC000873',\n",
       "       'MAC000874', 'MAC000875', 'MAC000876', 'MAC000880', 'MAC000881',\n",
       "       'MAC000882', 'MAC000883', 'MAC000885', 'MAC000886', 'MAC000888',\n",
       "       'MAC000889', 'MAC000890', 'MAC000891', 'MAC000892', 'MAC000893',\n",
       "       'MAC000894', 'MAC000896', 'MAC000897', 'MAC000899', 'MAC000900',\n",
       "       'MAC000902', 'MAC000903', 'MAC000904', 'MAC000905', 'MAC000906',\n",
       "       'MAC000907', 'MAC000908', 'MAC000909', 'MAC000911', 'MAC000912',\n",
       "       'MAC000914', 'MAC000915', 'MAC000916', 'MAC000917', 'MAC000918',\n",
       "       'MAC000919', 'MAC000920', 'MAC000921', 'MAC000922', 'MAC000923',\n",
       "       'MAC000925', 'MAC000926', 'MAC000927', 'MAC000928', 'MAC000929',\n",
       "       'MAC000930', 'MAC000933', 'MAC000934', 'MAC000936', 'MAC000940',\n",
       "       'MAC000941', 'MAC000947', 'MAC000948', 'MAC000949', 'MAC000950',\n",
       "       'MAC000951', 'MAC000952', 'MAC000953', 'MAC000954', 'MAC000955',\n",
       "       'MAC000956', 'MAC000957', 'MAC000958', 'MAC000959', 'MAC000960',\n",
       "       'MAC000962', 'MAC000963', 'MAC000964', 'MAC000966', 'MAC000967',\n",
       "       'MAC000968', 'MAC000969', 'MAC000970', 'MAC000971', 'MAC000972',\n",
       "       'MAC000973', 'MAC000974', 'MAC000975', 'MAC000977', 'MAC000978',\n",
       "       'MAC000979', 'MAC000980', 'MAC000981', 'MAC000983', 'MAC000984',\n",
       "       'MAC000986', 'MAC000987', 'MAC000988', 'MAC000989', 'MAC000990',\n",
       "       'MAC000992', 'MAC000995', 'MAC000996', 'MAC000997', 'MAC000998',\n",
       "       'MAC001000', 'MAC001001', 'MAC001002', 'MAC001003', 'MAC001005',\n",
       "       'MAC001006', 'MAC001007', 'MAC001008', 'MAC001009', 'MAC001010',\n",
       "       'MAC001011', 'MAC001017', 'MAC001018', 'MAC001019', 'MAC001020',\n",
       "       'MAC001021', 'MAC001022', 'MAC001026', 'MAC001027', 'MAC001028',\n",
       "       'MAC001029', 'MAC001031', 'MAC001032', 'MAC001035', 'MAC001036',\n",
       "       'MAC001037', 'MAC001038', 'MAC001039', 'MAC001040', 'MAC001041',\n",
       "       'MAC001042', 'MAC001043', 'MAC001044', 'MAC001045', 'MAC001046',\n",
       "       'MAC001047', 'MAC001048', 'MAC001049', 'MAC001050', 'MAC001051',\n",
       "       'MAC001052', 'MAC001053', 'MAC001054', 'MAC001055', 'MAC001056',\n",
       "       'MAC001058', 'MAC001059', 'MAC001060', 'MAC001061', 'MAC001062',\n",
       "       'MAC001063', 'MAC001065', 'MAC001066', 'MAC001067', 'MAC001068',\n",
       "       'MAC001069', 'MAC001070', 'MAC001071', 'MAC001072', 'MAC001073',\n",
       "       'MAC001076', 'MAC001077', 'MAC001078', 'MAC001079', 'MAC001080',\n",
       "       'MAC001081', 'MAC001082', 'MAC001083', 'MAC001084', 'MAC001085',\n",
       "       'MAC001086', 'MAC001088', 'MAC001089', 'MAC001090', 'MAC001093',\n",
       "       'MAC001094', 'MAC001095', 'MAC001098', 'MAC001099', 'MAC001100',\n",
       "       'MAC001101', 'MAC001104', 'MAC001106', 'MAC001109', 'MAC001111',\n",
       "       'MAC001112', 'MAC001113', 'MAC001114', 'MAC001115', 'MAC001117',\n",
       "       'MAC001119', 'MAC001120', 'MAC001121', 'MAC001122', 'MAC001123',\n",
       "       'MAC001124', 'MAC001125', 'MAC001126', 'MAC001127', 'MAC001128',\n",
       "       'MAC001130', 'MAC001131', 'MAC001134', 'MAC001135', 'MAC001137',\n",
       "       'MAC001138', 'MAC001139', 'MAC001140'], dtype=object)"
      ]
     },
     "execution_count": 53,
     "metadata": {},
     "output_type": "execute_result"
    }
   ],
   "source": [
    "data['LCLid'].unique()"
   ]
  },
  {
   "cell_type": "code",
   "execution_count": 66,
   "id": "c1de6fa4-6bb9-4660-b234-78f24ab81911",
   "metadata": {},
   "outputs": [],
   "source": [
    "df1=data.groupby(['LCLid','Weekday',]).agg({'KWhh':['mean']}).unstack()\n",
    "df2=data.groupby(['LCLid','month',]).agg({'KWhh':['mean']}).unstack()\n",
    "df3=data.groupby(['LCLid','season',]).agg({'KWhh':['mean']}).unstack()\n",
    "df4=data.groupby(['LCLid','period',]).agg({'KWhh':['mean']}).unstack()\n",
    "df5=data.groupby(['LCLid','year',]).agg({'KWhh':['mean']}).unstack()"
   ]
  },
  {
   "cell_type": "code",
   "execution_count": 67,
   "id": "fbea6190-a5b0-433f-905b-ce5a01d882cb",
   "metadata": {},
   "outputs": [
    {
     "data": {
      "text/html": [
       "<div>\n",
       "<style scoped>\n",
       "    .dataframe tbody tr th:only-of-type {\n",
       "        vertical-align: middle;\n",
       "    }\n",
       "\n",
       "    .dataframe tbody tr th {\n",
       "        vertical-align: top;\n",
       "    }\n",
       "\n",
       "    .dataframe thead tr th {\n",
       "        text-align: left;\n",
       "    }\n",
       "\n",
       "    .dataframe thead tr:last-of-type th {\n",
       "        text-align: right;\n",
       "    }\n",
       "</style>\n",
       "<table border=\"1\" class=\"dataframe\">\n",
       "  <thead>\n",
       "    <tr>\n",
       "      <th></th>\n",
       "      <th colspan=\"7\" halign=\"left\">KWhh</th>\n",
       "    </tr>\n",
       "    <tr>\n",
       "      <th></th>\n",
       "      <th colspan=\"7\" halign=\"left\">mean</th>\n",
       "    </tr>\n",
       "    <tr>\n",
       "      <th>Weekday</th>\n",
       "      <th>Friday</th>\n",
       "      <th>Monday</th>\n",
       "      <th>Saturday</th>\n",
       "      <th>Sunday</th>\n",
       "      <th>Thursday</th>\n",
       "      <th>Tuesday</th>\n",
       "      <th>Wednesday</th>\n",
       "    </tr>\n",
       "    <tr>\n",
       "      <th>LCLid</th>\n",
       "      <th></th>\n",
       "      <th></th>\n",
       "      <th></th>\n",
       "      <th></th>\n",
       "      <th></th>\n",
       "      <th></th>\n",
       "      <th></th>\n",
       "    </tr>\n",
       "  </thead>\n",
       "  <tbody>\n",
       "    <tr>\n",
       "      <th>MAC000515</th>\n",
       "      <td>0.100547</td>\n",
       "      <td>0.098732</td>\n",
       "      <td>0.118636</td>\n",
       "      <td>0.103596</td>\n",
       "      <td>0.112954</td>\n",
       "      <td>0.110521</td>\n",
       "      <td>0.096201</td>\n",
       "    </tr>\n",
       "    <tr>\n",
       "      <th>MAC000516</th>\n",
       "      <td>0.139241</td>\n",
       "      <td>0.181759</td>\n",
       "      <td>0.154080</td>\n",
       "      <td>0.157030</td>\n",
       "      <td>0.182290</td>\n",
       "      <td>0.178225</td>\n",
       "      <td>0.174066</td>\n",
       "    </tr>\n",
       "    <tr>\n",
       "      <th>MAC000517</th>\n",
       "      <td>0.112473</td>\n",
       "      <td>0.108733</td>\n",
       "      <td>0.092129</td>\n",
       "      <td>0.101238</td>\n",
       "      <td>0.105331</td>\n",
       "      <td>0.107745</td>\n",
       "      <td>0.110106</td>\n",
       "    </tr>\n",
       "    <tr>\n",
       "      <th>MAC000518</th>\n",
       "      <td>0.138408</td>\n",
       "      <td>0.137671</td>\n",
       "      <td>0.143309</td>\n",
       "      <td>0.146756</td>\n",
       "      <td>0.138603</td>\n",
       "      <td>0.135056</td>\n",
       "      <td>0.137079</td>\n",
       "    </tr>\n",
       "    <tr>\n",
       "      <th>MAC000519</th>\n",
       "      <td>0.353762</td>\n",
       "      <td>0.384540</td>\n",
       "      <td>0.390895</td>\n",
       "      <td>0.403448</td>\n",
       "      <td>0.377142</td>\n",
       "      <td>0.382908</td>\n",
       "      <td>0.379470</td>\n",
       "    </tr>\n",
       "  </tbody>\n",
       "</table>\n",
       "</div>"
      ],
      "text/plain": [
       "               KWhh                                                    \\\n",
       "               mean                                                     \n",
       "Weekday      Friday    Monday  Saturday    Sunday  Thursday   Tuesday   \n",
       "LCLid                                                                   \n",
       "MAC000515  0.100547  0.098732  0.118636  0.103596  0.112954  0.110521   \n",
       "MAC000516  0.139241  0.181759  0.154080  0.157030  0.182290  0.178225   \n",
       "MAC000517  0.112473  0.108733  0.092129  0.101238  0.105331  0.107745   \n",
       "MAC000518  0.138408  0.137671  0.143309  0.146756  0.138603  0.135056   \n",
       "MAC000519  0.353762  0.384540  0.390895  0.403448  0.377142  0.382908   \n",
       "\n",
       "                     \n",
       "                     \n",
       "Weekday   Wednesday  \n",
       "LCLid                \n",
       "MAC000515  0.096201  \n",
       "MAC000516  0.174066  \n",
       "MAC000517  0.110106  \n",
       "MAC000518  0.137079  \n",
       "MAC000519  0.379470  "
      ]
     },
     "execution_count": 67,
     "metadata": {},
     "output_type": "execute_result"
    }
   ],
   "source": [
    "df1.head()"
   ]
  },
  {
   "cell_type": "code",
   "execution_count": 91,
   "id": "bf929ba1-bc33-4496-974b-b5642bcd36eb",
   "metadata": {},
   "outputs": [
    {
     "data": {
      "text/plain": [
       "MultiIndex([('KWhh', 'mean',    'Friday'),\n",
       "            ('KWhh', 'mean',    'Monday'),\n",
       "            ('KWhh', 'mean',  'Saturday'),\n",
       "            ('KWhh', 'mean',    'Sunday'),\n",
       "            ('KWhh', 'mean',  'Thursday'),\n",
       "            ('KWhh', 'mean',   'Tuesday'),\n",
       "            ('KWhh', 'mean', 'Wednesday')],\n",
       "           names=[None, None, 'Weekday'])"
      ]
     },
     "execution_count": 91,
     "metadata": {},
     "output_type": "execute_result"
    }
   ],
   "source": [
    "df1.columns"
   ]
  },
  {
   "cell_type": "code",
   "execution_count": 82,
   "id": "227c27ee-f2ef-419d-9ef5-30702ca7abfc",
   "metadata": {},
   "outputs": [],
   "source": [
    "days=[\"Friday\",\"Monday\",\"Saturday\",\"Sunday\",\"Thursday\",\"Tuesday\",\"Wednesday\"]"
   ]
  },
  {
   "cell_type": "code",
   "execution_count": 113,
   "id": "2ba9c2ce-1f34-4ff4-a488-3d35dfe4d62c",
   "metadata": {},
   "outputs": [
    {
     "data": {
      "text/plain": [
       "<matplotlib.legend.Legend at 0x18cc4e040>"
      ]
     },
     "execution_count": 113,
     "metadata": {},
     "output_type": "execute_result"
    },
    {
     "data": {
      "image/png": "[encoded data removed]",
      "text/plain": [
       "<Figure size 576x432 with 1 Axes>"
      ]
     },
     "metadata": {
      "needs_background": "light"
     },
     "output_type": "display_data"
    }
   ],
   "source": [
    "fig, ax = plt.subplots(figsize=(8,6))\n",
    "df1.plot(kind='kde', ax=ax, label=days)\n",
    "xmin, xmax = plt. xlim(0,0.5)\n",
    "plt.legend(days,title='Average during the week')"
   ]
  },
  {
   "cell_type": "code",
   "execution_count": 68,
   "id": "936db79c-7143-4a88-9069-3f2f4e359e3f",
   "metadata": {},
   "outputs": [
    {
     "data": {
      "text/html": [
       "<div>\n",
       "<style scoped>\n",
       "    .dataframe tbody tr th:only-of-type {\n",
       "        vertical-align: middle;\n",
       "    }\n",
       "\n",
       "    .dataframe tbody tr th {\n",
       "        vertical-align: top;\n",
       "    }\n",
       "\n",
       "    .dataframe thead tr th {\n",
       "        text-align: left;\n",
       "    }\n",
       "\n",
       "    .dataframe thead tr:last-of-type th {\n",
       "        text-align: right;\n",
       "    }\n",
       "</style>\n",
       "<table border=\"1\" class=\"dataframe\">\n",
       "  <thead>\n",
       "    <tr>\n",
       "      <th></th>\n",
       "      <th colspan=\"12\" halign=\"left\">KWhh</th>\n",
       "    </tr>\n",
       "    <tr>\n",
       "      <th></th>\n",
       "      <th colspan=\"12\" halign=\"left\">mean</th>\n",
       "    </tr>\n",
       "    <tr>\n",
       "      <th>month</th>\n",
       "      <th>1</th>\n",
       "      <th>2</th>\n",
       "      <th>3</th>\n",
       "      <th>4</th>\n",
       "      <th>5</th>\n",
       "      <th>6</th>\n",
       "      <th>7</th>\n",
       "      <th>8</th>\n",
       "      <th>9</th>\n",
       "      <th>10</th>\n",
       "      <th>11</th>\n",
       "      <th>12</th>\n",
       "    </tr>\n",
       "    <tr>\n",
       "      <th>LCLid</th>\n",
       "      <th></th>\n",
       "      <th></th>\n",
       "      <th></th>\n",
       "      <th></th>\n",
       "      <th></th>\n",
       "      <th></th>\n",
       "      <th></th>\n",
       "      <th></th>\n",
       "      <th></th>\n",
       "      <th></th>\n",
       "      <th></th>\n",
       "      <th></th>\n",
       "    </tr>\n",
       "  </thead>\n",
       "  <tbody>\n",
       "    <tr>\n",
       "      <th>MAC000515</th>\n",
       "      <td>0.156003</td>\n",
       "      <td>0.124274</td>\n",
       "      <td>0.070564</td>\n",
       "      <td>0.060909</td>\n",
       "      <td>0.090751</td>\n",
       "      <td>0.080560</td>\n",
       "      <td>0.056973</td>\n",
       "      <td>0.082830</td>\n",
       "      <td>0.097339</td>\n",
       "      <td>0.109635</td>\n",
       "      <td>0.144501</td>\n",
       "      <td>0.130171</td>\n",
       "    </tr>\n",
       "    <tr>\n",
       "      <th>MAC000516</th>\n",
       "      <td>0.198413</td>\n",
       "      <td>0.180552</td>\n",
       "      <td>0.190906</td>\n",
       "      <td>0.125793</td>\n",
       "      <td>0.180549</td>\n",
       "      <td>0.178692</td>\n",
       "      <td>0.174412</td>\n",
       "      <td>0.138995</td>\n",
       "      <td>0.158020</td>\n",
       "      <td>0.169601</td>\n",
       "      <td>0.158729</td>\n",
       "      <td>0.156263</td>\n",
       "    </tr>\n",
       "    <tr>\n",
       "      <th>MAC000517</th>\n",
       "      <td>0.155185</td>\n",
       "      <td>0.176962</td>\n",
       "      <td>0.180731</td>\n",
       "      <td>0.152023</td>\n",
       "      <td>0.118397</td>\n",
       "      <td>0.069933</td>\n",
       "      <td>0.085155</td>\n",
       "      <td>0.071143</td>\n",
       "      <td>0.077164</td>\n",
       "      <td>0.071060</td>\n",
       "      <td>0.078010</td>\n",
       "      <td>0.117308</td>\n",
       "    </tr>\n",
       "    <tr>\n",
       "      <th>MAC000518</th>\n",
       "      <td>0.157446</td>\n",
       "      <td>0.155721</td>\n",
       "      <td>0.128606</td>\n",
       "      <td>0.148281</td>\n",
       "      <td>0.154281</td>\n",
       "      <td>0.131960</td>\n",
       "      <td>0.122190</td>\n",
       "      <td>0.118458</td>\n",
       "      <td>0.115681</td>\n",
       "      <td>0.147716</td>\n",
       "      <td>0.160159</td>\n",
       "      <td>0.131146</td>\n",
       "    </tr>\n",
       "    <tr>\n",
       "      <th>MAC000519</th>\n",
       "      <td>0.473876</td>\n",
       "      <td>0.425760</td>\n",
       "      <td>0.477851</td>\n",
       "      <td>0.437450</td>\n",
       "      <td>0.346557</td>\n",
       "      <td>0.315043</td>\n",
       "      <td>0.268444</td>\n",
       "      <td>0.256773</td>\n",
       "      <td>0.326015</td>\n",
       "      <td>0.356184</td>\n",
       "      <td>0.484409</td>\n",
       "      <td>0.457357</td>\n",
       "    </tr>\n",
       "  </tbody>\n",
       "</table>\n",
       "</div>"
      ],
      "text/plain": [
       "               KWhh                                                    \\\n",
       "               mean                                                     \n",
       "month            1         2         3         4         5         6    \n",
       "LCLid                                                                   \n",
       "MAC000515  0.156003  0.124274  0.070564  0.060909  0.090751  0.080560   \n",
       "MAC000516  0.198413  0.180552  0.190906  0.125793  0.180549  0.178692   \n",
       "MAC000517  0.155185  0.176962  0.180731  0.152023  0.118397  0.069933   \n",
       "MAC000518  0.157446  0.155721  0.128606  0.148281  0.154281  0.131960   \n",
       "MAC000519  0.473876  0.425760  0.477851  0.437450  0.346557  0.315043   \n",
       "\n",
       "                                                                       \n",
       "                                                                       \n",
       "month            7         8         9         10        11        12  \n",
       "LCLid                                                                  \n",
       "MAC000515  0.056973  0.082830  0.097339  0.109635  0.144501  0.130171  \n",
       "MAC000516  0.174412  0.138995  0.158020  0.169601  0.158729  0.156263  \n",
       "MAC000517  0.085155  0.071143  0.077164  0.071060  0.078010  0.117308  \n",
       "MAC000518  0.122190  0.118458  0.115681  0.147716  0.160159  0.131146  \n",
       "MAC000519  0.268444  0.256773  0.326015  0.356184  0.484409  0.457357  "
      ]
     },
     "execution_count": 68,
     "metadata": {},
     "output_type": "execute_result"
    }
   ],
   "source": [
    "df2.head()"
   ]
  },
  {
   "cell_type": "code",
   "execution_count": 128,
   "id": "8f6b639a-fcd5-45f4-8218-fc39d5ca24cd",
   "metadata": {},
   "outputs": [],
   "source": [
    "months=data['DateTime'].dt.month_name().unique()"
   ]
  },
  {
   "cell_type": "code",
   "execution_count": 130,
   "id": "bf34303f-cf68-43f2-bd75-6745352f4ec9",
   "metadata": {},
   "outputs": [
    {
     "data": {
      "text/plain": [
       "<matplotlib.legend.Legend at 0x2dec7280>"
      ]
     },
     "execution_count": 130,
     "metadata": {},
     "output_type": "execute_result"
    },
    {
     "data": {
      "image/png": "[encoded data removed]",
      "text/plain": [
       "<Figure size 576x432 with 1 Axes>"
      ]
     },
     "metadata": {
      "needs_background": "light"
     },
     "output_type": "display_data"
    }
   ],
   "source": [
    "fig, ax = plt.subplots(figsize=(8,6))\n",
    "df2.plot(kind='kde', ax=ax, label=days)\n",
    "xmin, xmax = plt. xlim(0,0.4)\n",
    "plt.legend(months,title='Average during months')"
   ]
  },
  {
   "cell_type": "code",
   "execution_count": 69,
   "id": "a4fd0412-c252-43c8-b9ba-5a1917ceb4da",
   "metadata": {},
   "outputs": [
    {
     "data": {
      "text/html": [
       "<div>\n",
       "<style scoped>\n",
       "    .dataframe tbody tr th:only-of-type {\n",
       "        vertical-align: middle;\n",
       "    }\n",
       "\n",
       "    .dataframe tbody tr th {\n",
       "        vertical-align: top;\n",
       "    }\n",
       "\n",
       "    .dataframe thead tr th {\n",
       "        text-align: left;\n",
       "    }\n",
       "\n",
       "    .dataframe thead tr:last-of-type th {\n",
       "        text-align: right;\n",
       "    }\n",
       "</style>\n",
       "<table border=\"1\" class=\"dataframe\">\n",
       "  <thead>\n",
       "    <tr>\n",
       "      <th></th>\n",
       "      <th colspan=\"4\" halign=\"left\">KWhh</th>\n",
       "    </tr>\n",
       "    <tr>\n",
       "      <th></th>\n",
       "      <th colspan=\"4\" halign=\"left\">mean</th>\n",
       "    </tr>\n",
       "    <tr>\n",
       "      <th>season</th>\n",
       "      <th>autumn</th>\n",
       "      <th>spring</th>\n",
       "      <th>summer</th>\n",
       "      <th>winter</th>\n",
       "    </tr>\n",
       "    <tr>\n",
       "      <th>LCLid</th>\n",
       "      <th></th>\n",
       "      <th></th>\n",
       "      <th></th>\n",
       "      <th></th>\n",
       "    </tr>\n",
       "  </thead>\n",
       "  <tbody>\n",
       "    <tr>\n",
       "      <th>MAC000515</th>\n",
       "      <td>0.117077</td>\n",
       "      <td>0.076080</td>\n",
       "      <td>0.072973</td>\n",
       "      <td>0.127460</td>\n",
       "    </tr>\n",
       "    <tr>\n",
       "      <th>MAC000516</th>\n",
       "      <td>0.162199</td>\n",
       "      <td>0.153625</td>\n",
       "      <td>0.163874</td>\n",
       "      <td>0.180410</td>\n",
       "    </tr>\n",
       "    <tr>\n",
       "      <th>MAC000517</th>\n",
       "      <td>0.075364</td>\n",
       "      <td>0.134931</td>\n",
       "      <td>0.075531</td>\n",
       "      <td>0.150103</td>\n",
       "    </tr>\n",
       "    <tr>\n",
       "      <th>MAC000518</th>\n",
       "      <td>0.141257</td>\n",
       "      <td>0.151329</td>\n",
       "      <td>0.124118</td>\n",
       "      <td>0.144630</td>\n",
       "    </tr>\n",
       "    <tr>\n",
       "      <th>MAC000519</th>\n",
       "      <td>0.388510</td>\n",
       "      <td>0.391258</td>\n",
       "      <td>0.279319</td>\n",
       "      <td>0.457420</td>\n",
       "    </tr>\n",
       "  </tbody>\n",
       "</table>\n",
       "</div>"
      ],
      "text/plain": [
       "               KWhh                              \n",
       "               mean                              \n",
       "season       autumn    spring    summer    winter\n",
       "LCLid                                            \n",
       "MAC000515  0.117077  0.076080  0.072973  0.127460\n",
       "MAC000516  0.162199  0.153625  0.163874  0.180410\n",
       "MAC000517  0.075364  0.134931  0.075531  0.150103\n",
       "MAC000518  0.141257  0.151329  0.124118  0.144630\n",
       "MAC000519  0.388510  0.391258  0.279319  0.457420"
      ]
     },
     "execution_count": 69,
     "metadata": {},
     "output_type": "execute_result"
    }
   ],
   "source": [
    "df3.head()"
   ]
  },
  {
   "cell_type": "code",
   "execution_count": 118,
   "id": "1bf4f103-999c-496f-a572-14f43382799d",
   "metadata": {},
   "outputs": [],
   "source": [
    "seasons=data['season'].unique()"
   ]
  },
  {
   "cell_type": "code",
   "execution_count": 120,
   "id": "34edeb22-5bc7-4078-9dca-3de915976c21",
   "metadata": {},
   "outputs": [
    {
     "data": {
      "text/plain": [
       "<matplotlib.legend.Legend at 0x18df93cd0>"
      ]
     },
     "execution_count": 120,
     "metadata": {},
     "output_type": "execute_result"
    },
    {
     "data": {
      "image/png": "[encoded data removed]",
      "text/plain": [
       "<Figure size 576x432 with 1 Axes>"
      ]
     },
     "metadata": {
      "needs_background": "light"
     },
     "output_type": "display_data"
    }
   ],
   "source": [
    "fig, ax = plt.subplots(figsize=(8,6))\n",
    "df3.plot(kind='kde', ax=ax, label=days)\n",
    "xmin, xmax = plt. xlim(0,0.5)\n",
    "plt.legend(seasons,title='Average during seasons')"
   ]
  },
  {
   "cell_type": "code",
   "execution_count": 70,
   "id": "876254c4-2a5f-4505-b30d-f0249d61a8cb",
   "metadata": {},
   "outputs": [
    {
     "data": {
      "text/html": [
       "<div>\n",
       "<style scoped>\n",
       "    .dataframe tbody tr th:only-of-type {\n",
       "        vertical-align: middle;\n",
       "    }\n",
       "\n",
       "    .dataframe tbody tr th {\n",
       "        vertical-align: top;\n",
       "    }\n",
       "\n",
       "    .dataframe thead tr th {\n",
       "        text-align: left;\n",
       "    }\n",
       "\n",
       "    .dataframe thead tr:last-of-type th {\n",
       "        text-align: right;\n",
       "    }\n",
       "</style>\n",
       "<table border=\"1\" class=\"dataframe\">\n",
       "  <thead>\n",
       "    <tr>\n",
       "      <th></th>\n",
       "      <th colspan=\"4\" halign=\"left\">KWhh</th>\n",
       "    </tr>\n",
       "    <tr>\n",
       "      <th></th>\n",
       "      <th colspan=\"4\" halign=\"left\">mean</th>\n",
       "    </tr>\n",
       "    <tr>\n",
       "      <th>period</th>\n",
       "      <th>early_evening</th>\n",
       "      <th>late_evening</th>\n",
       "      <th>morning</th>\n",
       "      <th>night</th>\n",
       "    </tr>\n",
       "    <tr>\n",
       "      <th>LCLid</th>\n",
       "      <th></th>\n",
       "      <th></th>\n",
       "      <th></th>\n",
       "      <th></th>\n",
       "    </tr>\n",
       "  </thead>\n",
       "  <tbody>\n",
       "    <tr>\n",
       "      <th>MAC000515</th>\n",
       "      <td>0.171570</td>\n",
       "      <td>0.163865</td>\n",
       "      <td>0.069450</td>\n",
       "      <td>0.018528</td>\n",
       "    </tr>\n",
       "    <tr>\n",
       "      <th>MAC000516</th>\n",
       "      <td>0.200404</td>\n",
       "      <td>0.215514</td>\n",
       "      <td>0.157278</td>\n",
       "      <td>0.093539</td>\n",
       "    </tr>\n",
       "    <tr>\n",
       "      <th>MAC000517</th>\n",
       "      <td>0.147995</td>\n",
       "      <td>0.130554</td>\n",
       "      <td>0.103464</td>\n",
       "      <td>0.039557</td>\n",
       "    </tr>\n",
       "    <tr>\n",
       "      <th>MAC000518</th>\n",
       "      <td>0.146996</td>\n",
       "      <td>0.219154</td>\n",
       "      <td>0.128612</td>\n",
       "      <td>0.063313</td>\n",
       "    </tr>\n",
       "    <tr>\n",
       "      <th>MAC000519</th>\n",
       "      <td>0.370841</td>\n",
       "      <td>0.657176</td>\n",
       "      <td>0.270452</td>\n",
       "      <td>0.228028</td>\n",
       "    </tr>\n",
       "  </tbody>\n",
       "</table>\n",
       "</div>"
      ],
      "text/plain": [
       "                   KWhh                                 \n",
       "                   mean                                 \n",
       "period    early_evening late_evening   morning     night\n",
       "LCLid                                                   \n",
       "MAC000515      0.171570     0.163865  0.069450  0.018528\n",
       "MAC000516      0.200404     0.215514  0.157278  0.093539\n",
       "MAC000517      0.147995     0.130554  0.103464  0.039557\n",
       "MAC000518      0.146996     0.219154  0.128612  0.063313\n",
       "MAC000519      0.370841     0.657176  0.270452  0.228028"
      ]
     },
     "execution_count": 70,
     "metadata": {},
     "output_type": "execute_result"
    }
   ],
   "source": [
    "df4.head()"
   ]
  },
  {
   "cell_type": "code",
   "execution_count": 121,
   "id": "f7c68892-a779-4e98-a5cd-17dbaa7e74b6",
   "metadata": {},
   "outputs": [],
   "source": [
    "periods=data['period'].unique()"
   ]
  },
  {
   "cell_type": "code",
   "execution_count": 123,
   "id": "cf247a99-b5e5-4c78-8bfd-dd043b580ef5",
   "metadata": {},
   "outputs": [
    {
     "data": {
      "text/plain": [
       "<matplotlib.legend.Legend at 0x16e22d760>"
      ]
     },
     "execution_count": 123,
     "metadata": {},
     "output_type": "execute_result"
    },
    {
     "data": {
      "image/png": "[encoded data removed]",
      "text/plain": [
       "<Figure size 576x432 with 1 Axes>"
      ]
     },
     "metadata": {
      "needs_background": "light"
     },
     "output_type": "display_data"
    }
   ],
   "source": [
    "fig, ax = plt.subplots(figsize=(8,6))\n",
    "df4.plot(kind='kde', ax=ax, label=days)\n",
    "xmin, xmax = plt. xlim(0,0.5)\n",
    "plt.legend(periods,title='Average along the day')"
   ]
  },
  {
   "cell_type": "code",
   "execution_count": 71,
   "id": "6b5c33c3-6ade-440a-aa6f-de16536cba4a",
   "metadata": {},
   "outputs": [
    {
     "data": {
      "text/html": [
       "<div>\n",
       "<style scoped>\n",
       "    .dataframe tbody tr th:only-of-type {\n",
       "        vertical-align: middle;\n",
       "    }\n",
       "\n",
       "    .dataframe tbody tr th {\n",
       "        vertical-align: top;\n",
       "    }\n",
       "\n",
       "    .dataframe thead tr th {\n",
       "        text-align: left;\n",
       "    }\n",
       "\n",
       "    .dataframe thead tr:last-of-type th {\n",
       "        text-align: right;\n",
       "    }\n",
       "</style>\n",
       "<table border=\"1\" class=\"dataframe\">\n",
       "  <thead>\n",
       "    <tr>\n",
       "      <th></th>\n",
       "      <th colspan=\"3\" halign=\"left\">KWhh</th>\n",
       "    </tr>\n",
       "    <tr>\n",
       "      <th></th>\n",
       "      <th colspan=\"3\" halign=\"left\">mean</th>\n",
       "    </tr>\n",
       "    <tr>\n",
       "      <th>year</th>\n",
       "      <th>2012</th>\n",
       "      <th>2013</th>\n",
       "      <th>2014</th>\n",
       "    </tr>\n",
       "    <tr>\n",
       "      <th>LCLid</th>\n",
       "      <th></th>\n",
       "      <th></th>\n",
       "      <th></th>\n",
       "    </tr>\n",
       "  </thead>\n",
       "  <tbody>\n",
       "    <tr>\n",
       "      <th>MAC000515</th>\n",
       "      <td>0.104828</td>\n",
       "      <td>0.103378</td>\n",
       "      <td>0.124805</td>\n",
       "    </tr>\n",
       "    <tr>\n",
       "      <th>MAC000516</th>\n",
       "      <td>0.163330</td>\n",
       "      <td>0.168230</td>\n",
       "      <td>0.173443</td>\n",
       "    </tr>\n",
       "    <tr>\n",
       "      <th>MAC000517</th>\n",
       "      <td>0.116797</td>\n",
       "      <td>0.095838</td>\n",
       "      <td>0.153409</td>\n",
       "    </tr>\n",
       "    <tr>\n",
       "      <th>MAC000518</th>\n",
       "      <td>0.128308</td>\n",
       "      <td>0.147377</td>\n",
       "      <td>0.144436</td>\n",
       "    </tr>\n",
       "    <tr>\n",
       "      <th>MAC000519</th>\n",
       "      <td>0.364165</td>\n",
       "      <td>0.389803</td>\n",
       "      <td>0.414799</td>\n",
       "    </tr>\n",
       "  </tbody>\n",
       "</table>\n",
       "</div>"
      ],
      "text/plain": [
       "               KWhh                    \n",
       "               mean                    \n",
       "year           2012      2013      2014\n",
       "LCLid                                  \n",
       "MAC000515  0.104828  0.103378  0.124805\n",
       "MAC000516  0.163330  0.168230  0.173443\n",
       "MAC000517  0.116797  0.095838  0.153409\n",
       "MAC000518  0.128308  0.147377  0.144436\n",
       "MAC000519  0.364165  0.389803  0.414799"
      ]
     },
     "execution_count": 71,
     "metadata": {},
     "output_type": "execute_result"
    }
   ],
   "source": [
    "df5.head()"
   ]
  },
  {
   "cell_type": "code",
   "execution_count": 124,
   "id": "abb38130-a0f1-4bab-820b-96a34c2cbb4a",
   "metadata": {},
   "outputs": [],
   "source": [
    "years=data['year'].unique()"
   ]
  },
  {
   "cell_type": "code",
   "execution_count": 125,
   "id": "200164f5-6299-4f38-ad07-db0f01dd4935",
   "metadata": {},
   "outputs": [
    {
     "data": {
      "text/plain": [
       "<matplotlib.legend.Legend at 0x16e22d850>"
      ]
     },
     "execution_count": 125,
     "metadata": {},
     "output_type": "execute_result"
    },
    {
     "data": {
      "image/png": "[encoded data removed]",
      "text/plain": [
       "<Figure size 576x432 with 1 Axes>"
      ]
     },
     "metadata": {
      "needs_background": "light"
     },
     "output_type": "display_data"
    }
   ],
   "source": [
    "fig, ax = plt.subplots(figsize=(8,6))\n",
    "df5.plot(kind='kde', ax=ax, label=days)\n",
    "xmin, xmax = plt. xlim(0,0.5)\n",
    "plt.legend(years,title='Average during years')"
   ]
  },
  {
   "cell_type": "code",
   "execution_count": 137,
   "id": "89d8c78f-a215-4b9a-a403-59c03b6ec83d",
   "metadata": {},
   "outputs": [
    {
     "data": {
      "image/png": "[encoded data removed]",
      "text/plain": [
       "<Figure size 432x288 with 1 Axes>"
      ]
     },
     "metadata": {
      "needs_background": "light"
     },
     "output_type": "display_data"
    }
   ],
   "source": [
    "from sklearn.cluster import KMeans\n",
    "cs = []\n",
    "for i in range(1, 11):\n",
    "    kmeans = KMeans(n_clusters = i, init = 'k-means++', max_iter = 300, n_init = 10, random_state = 0)\n",
    "    kmeans.fit(X_train)\n",
    "    cs.append(kmeans.inertia_)\n",
    "plt.plot(range(1, 11), cs)\n",
    "plt.title('The Elbow Method')\n",
    "plt.xlabel('Number of clusters')\n",
    "plt.ylabel('CS')\n",
    "plt.show()"
   ]
  },
  {
   "cell_type": "code",
   "execution_count": 250,
   "id": "9611116d-a17f-4d39-92af-c6787bc02bc2",
   "metadata": {
    "tags": []
   },
   "outputs": [],
   "source": [
    "kmeans= KMeans(n_clusters = 4,init='k-means++', random_state = 42)\n",
    "\n",
    "y_kmeans=kmeans.fit_predict(consumption)"
   ]
  },
  {
   "cell_type": "code",
   "execution_count": 251,
   "id": "5e085207-5ce6-4b01-b5d4-9f9c94fee25d",
   "metadata": {},
   "outputs": [
    {
     "data": {
      "text/plain": [
       "array([[3.13873371e+03, 8.77880184e-03, 1.67553456e+00, 1.06749311e-01,\n",
       "        1.18365177e-01, 1.43571324e-01, 1.03228194e-01, 6.17685310e-02,\n",
       "        9.59615560e-02, 1.06019441e-01, 1.20711640e-01, 1.01572388e-01,\n",
       "        1.05103517e-01, 1.06051693e-01, 9.56722227e-02],\n",
       "       [2.37155938e+04, 8.15000000e-02, 4.36924998e+00, 7.29861178e-01,\n",
       "        7.76712160e-01, 9.11469808e-01, 6.87669593e-01, 5.43310487e-01,\n",
       "        5.97697932e-01, 6.92697090e-01, 9.12892012e-01, 6.56357247e-01,\n",
       "        6.76577879e-01, 7.52386991e-01, 8.24861655e-01],\n",
       "       [1.16477115e+04, 3.27179487e-02, 3.25705128e+00, 3.61673766e-01,\n",
       "        4.18041291e-01, 4.91614521e-01, 3.45474085e-01, 1.91342153e-01,\n",
       "        2.88478684e-01, 3.59925857e-01, 4.43060383e-01, 3.30505116e-01,\n",
       "        3.40373634e-01, 3.63523512e-01, 4.36952115e-01],\n",
       "       [6.76469431e+03, 1.95113636e-02, 2.39423864e+00, 2.15764006e-01,\n",
       "        2.46291601e-01, 2.87189839e-01, 2.07004428e-01, 1.22435696e-01,\n",
       "        1.84164330e-01, 2.13025972e-01, 2.53854194e-01, 2.01332811e-01,\n",
       "        2.08966146e-01, 2.18119846e-01, 2.20312110e-01]])"
      ]
     },
     "execution_count": 251,
     "metadata": {},
     "output_type": "execute_result"
    }
   ],
   "source": [
    "kmeans.cluster_centers_"
   ]
  },
  {
   "cell_type": "code",
   "execution_count": 252,
   "id": "12ccff47-a317-4252-ad0a-28bb882cd7ec",
   "metadata": {},
   "outputs": [
    {
     "data": {
      "text/plain": [
       "1294167282.013934"
      ]
     },
     "execution_count": 252,
     "metadata": {},
     "output_type": "execute_result"
    }
   ],
   "source": [
    "kmeans.inertia_"
   ]
  },
  {
   "cell_type": "code",
   "execution_count": 261,
   "id": "aae32b09-7355-47bd-bd6e-154b78b573c9",
   "metadata": {},
   "outputs": [
    {
     "data": {
      "text/plain": [
       "<matplotlib.collections.PathCollection at 0x2087aff70>"
      ]
     },
     "execution_count": 261,
     "metadata": {},
     "output_type": "execute_result"
    },
    {
     "data": {
      "image/png": "[encoded data removed]",
      "text/plain": [
       "<Figure size 1080x504 with 1 Axes>"
      ]
     },
     "metadata": {
      "needs_background": "light"
     },
     "output_type": "display_data"
    }
   ],
   "source": [
    "plt.figure(figsize=(15,7))\n",
    "X='Total'\n",
    "Y='Average'\n",
    "df=consumption\n",
    "plt.scatter(df[[X]][y_kmeans==0],df[[Y]][y_kmeans==0],color='cyan',label='Cluster 1',s=50)\n",
    "plt.scatter(df[[X]][y_kmeans==1],df[[Y]][y_kmeans==1],color='blue',label='Cluster 2',s=50)\n",
    "plt.scatter(df[[X]][y_kmeans==2],df[[Y]][y_kmeans==2],color='green',label='Cluster 3',s=50)\n",
    "plt.scatter(df[[X]][y_kmeans==3],df[[Y]][y_kmeans==3],color='red',label='Cluster 4',s=50)"
   ]
  },
  {
   "cell_type": "code",
   "execution_count": null,
   "id": "81e166d3-f7f6-44d8-b61a-c2f859e3ab2c",
   "metadata": {},
   "outputs": [],
   "source": []
  }
 ],
 "metadata": {
  "kernelspec": {
   "display_name": "Python 3 (ipykernel)",
   "language": "python",
   "name": "python3"
  },
  "language_info": {
   "codemirror_mode": {
    "name": "ipython",
    "version": 3
   },
   "file_extension": ".py",
   "mimetype": "text/x-python",
   "name": "python",
   "nbconvert_exporter": "python",
   "pygments_lexer": "ipython3",
   "version": "3.9.12"
  }
 },
 "nbformat": 4,
 "nbformat_minor": 5
}
